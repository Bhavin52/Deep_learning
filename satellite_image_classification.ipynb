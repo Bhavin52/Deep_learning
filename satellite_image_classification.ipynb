{
  "nbformat": 4,
  "nbformat_minor": 0,
  "metadata": {
    "colab": {
      "name": "satellite image classification.ipynb",
      "provenance": [],
      "mount_file_id": "1qaOc4uaCH8cllkERE3PDmk3SXP4QIUy9",
      "authorship_tag": "ABX9TyPkEAhl2RBQMQhTJgHkf5Xw",
      "include_colab_link": true
    },
    "kernelspec": {
      "name": "python3",
      "display_name": "Python 3"
    },
    "language_info": {
      "name": "python"
    }
  },
  "cells": [
    {
      "cell_type": "markdown",
      "metadata": {
        "id": "view-in-github",
        "colab_type": "text"
      },
      "source": [
        "<a href=\"https://colab.research.google.com/github/Bhavin52/Deep_learning/blob/main/satellite_image_classification.ipynb\" target=\"_parent\"><img src=\"https://colab.research.google.com/assets/colab-badge.svg\" alt=\"Open In Colab\"/></a>"
      ]
    },
    {
      "cell_type": "code",
      "execution_count": 1,
      "metadata": {
        "id": "Vy12Ld2wsL7z"
      },
      "outputs": [],
      "source": [
        "import numpy as np\n",
        "import os\n",
        "import random\n",
        "import cv2\n",
        "import matplotlib.pyplot as plt"
      ]
    },
    {
      "cell_type": "code",
      "source": [
        "DATADIR= '/content/drive/MyDrive/satellite image classification/data'\n",
        "CATEGORIES = os.listdir(DATADIR)\n",
        "print(CATEGORIES)"
      ],
      "metadata": {
        "colab": {
          "base_uri": "https://localhost:8080/"
        },
        "id": "is4oV60YtGV0",
        "outputId": "1ba32c99-eafb-4a8d-f2d0-0f73cbbb4023"
      },
      "execution_count": 2,
      "outputs": [
        {
          "output_type": "stream",
          "name": "stdout",
          "text": [
            "['cloudy', 'water', 'desert', 'green_area']\n"
          ]
        }
      ]
    },
    {
      "cell_type": "code",
      "source": [
        "def load_images(DATADIR, CATEGORIES):\n",
        "    images = []\n",
        "    labels = []\n",
        "    \n",
        "    nb_images_each_type = []\n",
        "    for category in CATEGORIES:\n",
        "        beginning = len(images)\n",
        "        class_number = CATEGORIES.index(category)\n",
        "        path = os.path.join(DATADIR, category)\n",
        "        for img in os.listdir(path):\n",
        "            img = cv2.imread(os.path.join(path, img))\n",
        "            img = cv2.cvtColor(img, cv2.COLOR_BGR2RGB)\n",
        "            img = cv2.resize(img, (256,256))\n",
        "            images.append(img)\n",
        "            labels.append(class_number)\n",
        "            \n",
        "            # Adding rotated image\n",
        "            param = random.choice([-180, -90, 90])\n",
        "            if param == -180:\n",
        "                img_rotated = cv2.rotate(img, cv2.ROTATE_180)\n",
        "            elif param == -90:\n",
        "                img_rotated = cv2.rotate(img, cv2.ROTATE_90_COUNTERCLOCKWISE)\n",
        "            elif param == 90:\n",
        "                img_rotated = cv2.rotate(img, cv2.ROTATE_90_CLOCKWISE)\n",
        "            images.append(img_rotated)\n",
        "            labels.append(class_number)\n",
        "            \n",
        "            # Adding rotated and cropped image\n",
        "            img_cropped = img[32:224, 32:224]\n",
        "            param = random.choice([-180, -90, 90])\n",
        "            if param == -180:\n",
        "                img_cropped = cv2.rotate(img_cropped, cv2.ROTATE_180)\n",
        "            elif param == -90:\n",
        "                img_cropped = cv2.rotate(img_cropped, cv2.ROTATE_90_COUNTERCLOCKWISE)\n",
        "            elif param == 90:\n",
        "                img_cropped = cv2.rotate(img_cropped, cv2.ROTATE_90_CLOCKWISE)\n",
        "            img_cropped = cv2.resize(img_cropped, (256,256))\n",
        "            images.append(img_cropped)\n",
        "            labels.append(class_number)\n",
        "              \n",
        "        end = len(images)\n",
        "        nb_images_each_type.append(end-beginning)\n",
        "    images = np.array(images)\n",
        "    labels = np.array(labels)\n",
        "    \n",
        "    # Displaying dataset info\n",
        "    print(f'images: {len(images)}; labels: {len(labels)}')\n",
        "    print('image size:', images[0].shape)\n",
        "    print('-'*25)\n",
        "    print('number of images of each label:')\n",
        "    for i in range(len(CATEGORIES)):\n",
        "        print(f'{CATEGORIES[i]}: {nb_images_each_type[i]}')\n",
        "    print('-'*25)\n",
        "    from sys import getsizeof\n",
        "    print(f'size of dataset: {getsizeof(images)/1024/1024} MB; {getsizeof(images)/1024/1024/1024} GB')\n",
        "    plt.imshow(images[random.randint(0, len(images))])\n",
        "    \n",
        "    return images, labels"
      ],
      "metadata": {
        "id": "3IaOX5aXuCoM"
      },
      "execution_count": 3,
      "outputs": []
    },
    {
      "cell_type": "code",
      "source": [
        "images, labels = load_images(DATADIR, CATEGORIES)"
      ],
      "metadata": {
        "colab": {
          "base_uri": "https://localhost:8080/",
          "height": 452
        },
        "id": "8sd86PXsuDQZ",
        "outputId": "a51d075d-ffb4-4d7b-e67a-e89bdc2565ab"
      },
      "execution_count": 20,
      "outputs": [
        {
          "output_type": "stream",
          "name": "stdout",
          "text": [
            "images: 16893; labels: 16893\n",
            "image size: (256, 256, 3)\n",
            "-------------------------\n",
            "number of images of each label:\n",
            "cloudy: 4500\n",
            "water: 4500\n",
            "desert: 3393\n",
            "green_area: 4500\n",
            "-------------------------\n",
            "size of dataset: 3167.437644958496 MB; 3.0932008251547813 GB\n"
          ]
        },
        {
          "output_type": "display_data",
          "data": {
            "text/plain": [
              "<Figure size 432x288 with 1 Axes>"
            ],
            "image/png": "[encoded data removed]"
          },
          "metadata": {
            "needs_background": "light"
          }
        }
      ]
    },
    {
      "cell_type": "markdown",
      "source": [
        "Splitting data into training and test data and making labels categorical"
      ],
      "metadata": {
        "id": "yMUjVMLX5oVP"
      }
    },
    {
      "cell_type": "code",
      "source": [
        "from sklearn.model_selection import train_test_split\n",
        "from tensorflow.keras.utils import to_categorical"
      ],
      "metadata": {
        "id": "8MDhsnK05m0E"
      },
      "execution_count": 21,
      "outputs": []
    },
    {
      "cell_type": "code",
      "source": [
        "labels = to_categorical(labels)\n",
        "\n",
        "X_train, X_test, y_train, y_test = train_test_split(images, labels, train_size=.85, random_state=1)\n",
        "images, labels = 0, 0"
      ],
      "metadata": {
        "id": "fkxp1JWV5wb4"
      },
      "execution_count": 22,
      "outputs": []
    },
    {
      "cell_type": "markdown",
      "source": [
        "Importing tools needed to create CNN"
      ],
      "metadata": {
        "id": "vD7jNQrQ54Fg"
      }
    },
    {
      "cell_type": "code",
      "source": [
        "from tensorflow.keras.models import Sequential\n",
        "from tensorflow.keras.layers import Conv2D, MaxPool2D, Dropout, Flatten, Dense, BatchNormalization\n",
        "from tensorflow.keras.optimizers import Adam"
      ],
      "metadata": {
        "id": "woFE7S6c50JS"
      },
      "execution_count": 23,
      "outputs": []
    },
    {
      "cell_type": "markdown",
      "source": [
        "Building CNN\n",
        "\n"
      ],
      "metadata": {
        "id": "rO8CV4OK59_5"
      }
    },
    {
      "cell_type": "code",
      "source": [
        "model = Sequential()\n",
        "\n",
        "model.add(Conv2D(filters=16, kernel_size=(8,8), strides=(1,1), padding='same', activation='relu', input_shape=(256,256,3)))\n",
        "model.add(Dropout(0.2))\n",
        "# model.add(BatchNormalization())\n",
        "model.add(MaxPool2D(pool_size=(3,3)))\n",
        "model.add(Conv2D(filters=16, kernel_size=(5,5), strides=(1,1), padding='same', activation='relu'))\n",
        "# model.add(BatchNormalization())\n",
        "model.add(Dropout(0.2))\n",
        "model.add(MaxPool2D(pool_size=(3,3)))\n",
        "model.add(Conv2D(filters=16, kernel_size=(3,3), strides=(1,1), padding='same', activation='relu'))\n",
        "# model.add(BatchNormalization())\n",
        "model.add(Dropout(0.2))\n",
        "model.add(MaxPool2D(pool_size=(3,3)))\n",
        "\n",
        "model.add(Flatten())\n",
        "model.add(Dense(units=256, activation='relu'))\n",
        "model.add(Dropout(0.1))\n",
        "model.add(Dense(units=256, activation='relu'))\n",
        "model.add(Dropout(0.1))\n",
        "model.add(Dense(units=len(CATEGORIES), activation='softmax'))\n",
        "\n",
        "model.compile(\n",
        "    optimizer=Adam(0.001),\n",
        "    loss='categorical_crossentropy',\n",
        "    metrics=['accuracy']\n",
        ")\n",
        "model.summary()"
      ],
      "metadata": {
        "colab": {
          "base_uri": "https://localhost:8080/"
        },
        "id": "nuAqBDOF57GD",
        "outputId": "dbcdc838-d370-4a09-b502-f8c821f02d46"
      },
      "execution_count": 24,
      "outputs": [
        {
          "output_type": "stream",
          "name": "stdout",
          "text": [
            "Model: \"sequential\"\n",
            "_________________________________________________________________\n",
            " Layer (type)                Output Shape              Param #   \n",
            "=================================================================\n",
            " conv2d (Conv2D)             (None, 256, 256, 16)      3088      \n",
            "                                                                 \n",
            " dropout (Dropout)           (None, 256, 256, 16)      0         \n",
            "                                                                 \n",
            " max_pooling2d (MaxPooling2D  (None, 85, 85, 16)       0         \n",
            " )                                                               \n",
            "                                                                 \n",
            " conv2d_1 (Conv2D)           (None, 85, 85, 16)        6416      \n",
            "                                                                 \n",
            " dropout_1 (Dropout)         (None, 85, 85, 16)        0         \n",
            "                                                                 \n",
            " max_pooling2d_1 (MaxPooling  (None, 28, 28, 16)       0         \n",
            " 2D)                                                             \n",
            "                                                                 \n",
            " conv2d_2 (Conv2D)           (None, 28, 28, 16)        2320      \n",
            "                                                                 \n",
            " dropout_2 (Dropout)         (None, 28, 28, 16)        0         \n",
            "                                                                 \n",
            " max_pooling2d_2 (MaxPooling  (None, 9, 9, 16)         0         \n",
            " 2D)                                                             \n",
            "                                                                 \n",
            " flatten (Flatten)           (None, 1296)              0         \n",
            "                                                                 \n",
            " dense (Dense)               (None, 256)               332032    \n",
            "                                                                 \n",
            " dropout_3 (Dropout)         (None, 256)               0         \n",
            "                                                                 \n",
            " dense_1 (Dense)             (None, 256)               65792     \n",
            "                                                                 \n",
            " dropout_4 (Dropout)         (None, 256)               0         \n",
            "                                                                 \n",
            " dense_2 (Dense)             (None, 4)                 1028      \n",
            "                                                                 \n",
            "=================================================================\n",
            "Total params: 410,676\n",
            "Trainable params: 410,676\n",
            "Non-trainable params: 0\n",
            "_________________________________________________________________\n"
          ]
        }
      ]
    },
    {
      "cell_type": "markdown",
      "source": [
        "Training model"
      ],
      "metadata": {
        "id": "EDb9Rn3a6PP7"
      }
    },
    {
      "cell_type": "markdown",
      "source": [
        ""
      ],
      "metadata": {
        "id": "gZrm68St6PMB"
      }
    },
    {
      "cell_type": "code",
      "source": [
        "model.fit(X_train[:-300], y_train[:-300], epochs=15, batch_size=64, validation_data=(X_train[-300:], y_train[-300:]))"
      ],
      "metadata": {
        "colab": {
          "base_uri": "https://localhost:8080/"
        },
        "id": "6Dfb5cQJ6GoE",
        "outputId": "7c94911c-ebe7-4dfb-9dd0-d9a99177bfa8"
      },
      "execution_count": null,
      "outputs": [
        {
          "output_type": "stream",
          "name": "stdout",
          "text": [
            "Epoch 1/15\n",
            " 77/220 [=========>....................] - ETA: 14:41 - loss: 2.7287 - accuracy: 0.7311"
          ]
        }
      ]
    },
    {
      "cell_type": "code",
      "source": [
        ""
      ],
      "metadata": {
        "id": "P0kOTXut6R2c"
      },
      "execution_count": null,
      "outputs": []
    }
  ]
}