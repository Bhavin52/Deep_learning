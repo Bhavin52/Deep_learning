{
  "cells": [
    {
      "cell_type": "markdown",
      "metadata": {
        "id": "view-in-github",
        "colab_type": "text"
      },
      "source": [
        "<a href=\"https://colab.research.google.com/github/Bhavin52/Deep_learning/blob/main/neural_networks_.ipynb\" target=\"_parent\"><img src=\"https://colab.research.google.com/assets/colab-badge.svg\" alt=\"Open In Colab\"/></a>"
      ]
    },
    {
      "cell_type": "code",
      "execution_count": null,
      "metadata": {
        "ExecuteTime": {
          "end_time": "2021-07-01T14:17:22.506088Z",
          "start_time": "2021-07-01T14:17:18.056061Z"
        },
        "scrolled": true,
        "id": "_zfbJ_KO8228",
        "outputId": "195c54e6-7a24-4011-e15a-593233765f29"
      },
      "outputs": [
        {
          "name": "stdout",
          "output_type": "stream",
          "text": [
            "Requirement already satisfied: tensorflow in /Users/anaconda3/lib/python3.7/site-packages (2.0.0)\n",
            "Requirement already satisfied: google-pasta>=0.1.6 in /Users/anaconda3/lib/python3.7/site-packages (from tensorflow) (0.1.8)\n",
            "Requirement already satisfied: termcolor>=1.1.0 in /Users/anaconda3/lib/python3.7/site-packages (from tensorflow) (1.1.0)\n",
            "Requirement already satisfied: gast==0.2.2 in /Users/anaconda3/lib/python3.7/site-packages (from tensorflow) (0.2.2)\n",
            "Requirement already satisfied: keras-preprocessing>=1.0.5 in /Users/anaconda3/lib/python3.7/site-packages (from tensorflow) (1.1.0)\n",
            "Requirement already satisfied: opt-einsum>=2.3.2 in /Users/anaconda3/lib/python3.7/site-packages (from tensorflow) (3.1.0)\n",
            "Requirement already satisfied: tensorboard<2.1.0,>=2.0.0 in /Users/anaconda3/lib/python3.7/site-packages (from tensorflow) (2.0.1)\n",
            "Requirement already satisfied: wrapt>=1.11.1 in /Users/anaconda3/lib/python3.7/site-packages (from tensorflow) (1.11.2)\n",
            "Requirement already satisfied: wheel>=0.26 in /Users/anaconda3/lib/python3.7/site-packages (from tensorflow) (0.36.2)\n",
            "Requirement already satisfied: tensorflow-estimator<2.1.0,>=2.0.0 in /Users/anaconda3/lib/python3.7/site-packages (from tensorflow) (2.0.1)\n",
            "Requirement already satisfied: absl-py>=0.7.0 in /Users/anaconda3/lib/python3.7/site-packages (from tensorflow) (0.8.1)\n",
            "Requirement already satisfied: numpy<2.0,>=1.16.0 in /Users/anaconda3/lib/python3.7/site-packages (from tensorflow) (1.17.2)\n",
            "Requirement already satisfied: six>=1.10.0 in /Users/anaconda3/lib/python3.7/site-packages (from tensorflow) (1.12.0)\n",
            "Requirement already satisfied: grpcio>=1.8.6 in /Users/anaconda3/lib/python3.7/site-packages (from tensorflow) (1.25.0)\n",
            "Requirement already satisfied: astor>=0.6.0 in /Users/anaconda3/lib/python3.7/site-packages (from tensorflow) (0.8.1)\n",
            "Requirement already satisfied: keras-applications>=1.0.8 in /Users/anaconda3/lib/python3.7/site-packages (from tensorflow) (1.0.8)\n",
            "Requirement already satisfied: protobuf>=3.6.1 in /Users/anaconda3/lib/python3.7/site-packages (from tensorflow) (3.15.6)\n",
            "Requirement already satisfied: h5py in /Users/anaconda3/lib/python3.7/site-packages (from keras-applications>=1.0.8->tensorflow) (2.9.0)\n",
            "Requirement already satisfied: werkzeug>=0.11.15 in /Users/anaconda3/lib/python3.7/site-packages (from tensorboard<2.1.0,>=2.0.0->tensorflow) (2.0.1)\n",
            "Requirement already satisfied: markdown>=2.6.8 in /Users/anaconda3/lib/python3.7/site-packages (from tensorboard<2.1.0,>=2.0.0->tensorflow) (3.1.1)\n",
            "Requirement already satisfied: google-auth<2,>=1.6.3 in /Users/anaconda3/lib/python3.7/site-packages (from tensorboard<2.1.0,>=2.0.0->tensorflow) (1.7.1)\n",
            "Requirement already satisfied: google-auth-oauthlib<0.5,>=0.4.1 in /Users/anaconda3/lib/python3.7/site-packages (from tensorboard<2.1.0,>=2.0.0->tensorflow) (0.4.1)\n",
            "Requirement already satisfied: setuptools>=41.0.0 in /Users/anaconda3/lib/python3.7/site-packages (from tensorboard<2.1.0,>=2.0.0->tensorflow) (54.1.2)\n",
            "Requirement already satisfied: cachetools<3.2,>=2.0.0 in /Users/anaconda3/lib/python3.7/site-packages (from google-auth<2,>=1.6.3->tensorboard<2.1.0,>=2.0.0->tensorflow) (3.1.1)\n",
            "Requirement already satisfied: pyasn1-modules>=0.2.1 in /Users/anaconda3/lib/python3.7/site-packages (from google-auth<2,>=1.6.3->tensorboard<2.1.0,>=2.0.0->tensorflow) (0.2.7)\n",
            "Requirement already satisfied: rsa<4.1,>=3.1.4 in /Users/anaconda3/lib/python3.7/site-packages (from google-auth<2,>=1.6.3->tensorboard<2.1.0,>=2.0.0->tensorflow) (4.0)\n",
            "Requirement already satisfied: requests-oauthlib>=0.7.0 in /Users/anaconda3/lib/python3.7/site-packages (from google-auth-oauthlib<0.5,>=0.4.1->tensorboard<2.1.0,>=2.0.0->tensorflow) (1.3.0)\n",
            "Requirement already satisfied: pyasn1<0.5.0,>=0.4.6 in /Users/anaconda3/lib/python3.7/site-packages (from pyasn1-modules>=0.2.1->google-auth<2,>=1.6.3->tensorboard<2.1.0,>=2.0.0->tensorflow) (0.4.8)\n",
            "Requirement already satisfied: requests>=2.0.0 in /Users/anaconda3/lib/python3.7/site-packages (from requests-oauthlib>=0.7.0->google-auth-oauthlib<0.5,>=0.4.1->tensorboard<2.1.0,>=2.0.0->tensorflow) (2.22.0)\n",
            "Requirement already satisfied: oauthlib>=3.0.0 in /Users/anaconda3/lib/python3.7/site-packages (from requests-oauthlib>=0.7.0->google-auth-oauthlib<0.5,>=0.4.1->tensorboard<2.1.0,>=2.0.0->tensorflow) (3.1.0)\n",
            "Requirement already satisfied: chardet<3.1.0,>=3.0.2 in /Users/anaconda3/lib/python3.7/site-packages (from requests>=2.0.0->requests-oauthlib>=0.7.0->google-auth-oauthlib<0.5,>=0.4.1->tensorboard<2.1.0,>=2.0.0->tensorflow) (3.0.4)\n",
            "Requirement already satisfied: urllib3!=1.25.0,!=1.25.1,<1.26,>=1.21.1 in /Users/anaconda3/lib/python3.7/site-packages (from requests>=2.0.0->requests-oauthlib>=0.7.0->google-auth-oauthlib<0.5,>=0.4.1->tensorboard<2.1.0,>=2.0.0->tensorflow) (1.24.2)\n",
            "Requirement already satisfied: idna<2.9,>=2.5 in /Users/anaconda3/lib/python3.7/site-packages (from requests>=2.0.0->requests-oauthlib>=0.7.0->google-auth-oauthlib<0.5,>=0.4.1->tensorboard<2.1.0,>=2.0.0->tensorflow) (2.8)\n",
            "Requirement already satisfied: certifi>=2017.4.17 in /Users/anaconda3/lib/python3.7/site-packages (from requests>=2.0.0->requests-oauthlib>=0.7.0->google-auth-oauthlib<0.5,>=0.4.1->tensorboard<2.1.0,>=2.0.0->tensorflow) (2019.9.11)\n",
            "\u001b[33mWARNING: You are using pip version 21.0.1; however, version 21.1.3 is available.\n",
            "You should consider upgrading via the '/Users/anaconda3/bin/python -m pip install --upgrade pip' command.\u001b[0m\n",
            "Note: you may need to restart the kernel to use updated packages.\n"
          ]
        }
      ],
      "source": [
        "pip install tensorflow"
      ]
    },
    {
      "cell_type": "code",
      "execution_count": 1,
      "metadata": {
        "ExecuteTime": {
          "end_time": "2021-12-21T13:42:55.383478Z",
          "start_time": "2021-12-21T13:42:55.368533Z"
        },
        "id": "0MsKog7W823A"
      },
      "outputs": [],
      "source": [
        "import warnings\n",
        "warnings.filterwarnings(\"ignore\")"
      ]
    },
    {
      "cell_type": "code",
      "execution_count": 2,
      "metadata": {
        "ExecuteTime": {
          "end_time": "2021-12-21T13:42:55.929389Z",
          "start_time": "2021-12-21T13:42:55.924309Z"
        },
        "id": "Q216XxEP823B"
      },
      "outputs": [],
      "source": [
        "import matplotlib.pyplot as plt \n",
        "import numpy as np\n",
        "import pandas as pd\n",
        "from sklearn.model_selection import train_test_split"
      ]
    },
    {
      "cell_type": "markdown",
      "metadata": {
        "id": "cSoRKHra823C"
      },
      "source": [
        "# GD"
      ]
    },
    {
      "cell_type": "code",
      "execution_count": 3,
      "metadata": {
        "ExecuteTime": {
          "end_time": "2021-12-21T13:43:20.161748Z",
          "start_time": "2021-12-21T13:43:19.588428Z"
        },
        "colab": {
          "base_uri": "https://localhost:8080/",
          "height": 265
        },
        "id": "X2bquKbm823C",
        "outputId": "a83415f8-b0f3-4ae0-f857-f7f7d9865b81"
      },
      "outputs": [
        {
          "output_type": "display_data",
          "data": {
            "text/plain": [
              "<Figure size 432x288 with 1 Axes>"
            ],
            "image/png": "[encoded data removed]"
          },
          "metadata": {
            "needs_background": "light"
          }
        }
      ],
      "source": [
        "x=np.linspace(4,6,20)\n",
        "y=(x-5)**2\n",
        "plt.scatter(x,y,color=\"black\")\n",
        "starting_point=1000\n",
        "updated_point=starting_point\n",
        "l=[]\n",
        "for i in range(100):\n",
        "    eta=-0.2\n",
        "    updated_point=updated_point+eta*2*(updated_point-5)\n",
        "    l.append(updated_point)\n",
        "    plt.scatter(updated_point,(updated_point-5)**2)\n",
        "    "
      ]
    },
    {
      "cell_type": "code",
      "execution_count": 4,
      "metadata": {
        "ExecuteTime": {
          "end_time": "2021-12-21T13:43:27.623050Z",
          "start_time": "2021-12-21T13:43:27.616121Z"
        },
        "scrolled": false,
        "colab": {
          "base_uri": "https://localhost:8080/"
        },
        "id": "vKTAMGn0823E",
        "outputId": "d66e88f6-a38c-4419-d8d6-aa6937f0f6cd"
      },
      "outputs": [
        {
          "output_type": "execute_result",
          "data": {
            "text/plain": [
              "[602.0,\n",
              " 363.2,\n",
              " 219.92,\n",
              " 133.952,\n",
              " 82.37119999999999,\n",
              " 51.42271999999999,\n",
              " 32.85363199999999,\n",
              " 21.712179199999994,\n",
              " 15.027307519999997,\n",
              " 11.016384511999998,\n",
              " 8.609830707199999,\n",
              " 7.165898424319999,\n",
              " 6.299539054592,\n",
              " 5.779723432755199,\n",
              " 5.46783405965312,\n",
              " 5.280700435791871,\n",
              " 5.168420261475123,\n",
              " 5.101052156885074,\n",
              " 5.060631294131045,\n",
              " 5.036378776478627,\n",
              " 5.021827265887176,\n",
              " 5.013096359532306,\n",
              " 5.007857815719384,\n",
              " 5.004714689431631,\n",
              " 5.0028288136589785,\n",
              " 5.001697288195387,\n",
              " 5.001018372917232,\n",
              " 5.00061102375034,\n",
              " 5.000366614250204,\n",
              " 5.000219968550122,\n",
              " 5.000131981130074,\n",
              " 5.000079188678044,\n",
              " 5.000047513206827,\n",
              " 5.000028507924096,\n",
              " 5.000017104754457,\n",
              " 5.000010262852674,\n",
              " 5.000006157711605,\n",
              " 5.000003694626963,\n",
              " 5.000002216776178,\n",
              " 5.0000013300657065,\n",
              " 5.000000798039424,\n",
              " 5.0000004788236545,\n",
              " 5.000000287294193,\n",
              " 5.000000172376516,\n",
              " 5.00000010342591,\n",
              " 5.000000062055546,\n",
              " 5.0000000372333275,\n",
              " 5.0000000223399965,\n",
              " 5.000000013403998,\n",
              " 5.000000008042399,\n",
              " 5.00000000482544,\n",
              " 5.000000002895264,\n",
              " 5.000000001737158,\n",
              " 5.000000001042295,\n",
              " 5.000000000625377,\n",
              " 5.000000000375226,\n",
              " 5.0000000002251355,\n",
              " 5.000000000135081,\n",
              " 5.000000000081049,\n",
              " 5.0000000000486295,\n",
              " 5.0000000000291775,\n",
              " 5.000000000017507,\n",
              " 5.0000000000105045,\n",
              " 5.0000000000063025,\n",
              " 5.000000000003782,\n",
              " 5.000000000002269,\n",
              " 5.000000000001362,\n",
              " 5.000000000000817,\n",
              " 5.00000000000049,\n",
              " 5.000000000000294,\n",
              " 5.000000000000177,\n",
              " 5.000000000000106,\n",
              " 5.000000000000063,\n",
              " 5.000000000000038,\n",
              " 5.000000000000023,\n",
              " 5.000000000000014,\n",
              " 5.000000000000009,\n",
              " 5.000000000000005,\n",
              " 5.0000000000000036,\n",
              " 5.000000000000002,\n",
              " 5.000000000000001,\n",
              " 5.000000000000001,\n",
              " 5.000000000000001,\n",
              " 5.000000000000001,\n",
              " 5.000000000000001,\n",
              " 5.000000000000001,\n",
              " 5.000000000000001,\n",
              " 5.000000000000001,\n",
              " 5.000000000000001,\n",
              " 5.000000000000001,\n",
              " 5.000000000000001,\n",
              " 5.000000000000001,\n",
              " 5.000000000000001,\n",
              " 5.000000000000001,\n",
              " 5.000000000000001,\n",
              " 5.000000000000001,\n",
              " 5.000000000000001,\n",
              " 5.000000000000001,\n",
              " 5.000000000000001,\n",
              " 5.000000000000001]"
            ]
          },
          "metadata": {},
          "execution_count": 4
        }
      ],
      "source": [
        "l"
      ]
    },
    {
      "cell_type": "code",
      "execution_count": 5,
      "metadata": {
        "ExecuteTime": {
          "end_time": "2021-12-21T12:48:01.919025Z",
          "start_time": "2021-12-21T12:48:01.915177Z"
        },
        "id": "N1ttrTFO823G"
      },
      "outputs": [],
      "source": [
        "#linear reg implement "
      ]
    },
    {
      "cell_type": "markdown",
      "metadata": {
        "id": "jopjthht823J"
      },
      "source": [
        "# perceptron "
      ]
    },
    {
      "cell_type": "markdown",
      "metadata": {
        "id": "lfXcpswz823M"
      },
      "source": [
        " ![perceptron%20pic.jpeg](attachment:perceptron%20pic.jpeg)"
      ]
    },
    {
      "cell_type": "code",
      "execution_count": 6,
      "metadata": {
        "ExecuteTime": {
          "end_time": "2021-12-21T12:48:07.171459Z",
          "start_time": "2021-12-21T12:48:07.162044Z"
        },
        "id": "B7811p_P823O"
      },
      "outputs": [],
      "source": [
        "class Perceptron():\n",
        "\n",
        "    def __init__(self, no_of_inputs, threshold=10000, learning_rate=0.001):\n",
        "        self.threshold = threshold\n",
        "        self.learning_rate = learning_rate\n",
        "        self.weights = np.zeros(no_of_inputs + 1)\n",
        "           \n",
        "    def predict(self, inputs):\n",
        "        summation = np.dot(inputs, self.weights[1:]) + self.weights[0]\n",
        "        if summation > 0:\n",
        "          activation = 2\n",
        "        else:\n",
        "          activation = 1         \n",
        "        return activation\n",
        "    def predict_batch(self,inputs):\n",
        "        summation = np.dot(inputs, self.weights[1:]) + self.weights[0]\n",
        "        return np.where(summation>0,2,1)\n",
        "    \n",
        "\n",
        "    def train(self, training_inputs, labels):\n",
        "                for _ in range(self.threshold):\n",
        "                    for inputs, label in zip(training_inputs, labels):\n",
        "                        prediction = self.predict(inputs)\n",
        "                        self.weights[1:] += self.learning_rate * (label - prediction) * inputs\n",
        "                        self.weights[0] += self.learning_rate * (label - prediction)\n"
      ]
    },
    {
      "cell_type": "code",
      "execution_count": 7,
      "metadata": {
        "ExecuteTime": {
          "end_time": "2021-12-21T13:52:04.611623Z",
          "start_time": "2021-12-21T13:52:04.589537Z"
        },
        "id": "3p7helC3823R"
      },
      "outputs": [],
      "source": [
        "data=pd.read_csv(\"/content/fun-data.csv\")"
      ]
    },
    {
      "cell_type": "code",
      "execution_count": 8,
      "metadata": {
        "ExecuteTime": {
          "end_time": "2021-12-21T13:52:17.995680Z",
          "start_time": "2021-12-21T13:52:17.979239Z"
        },
        "colab": {
          "base_uri": "https://localhost:8080/",
          "height": 206
        },
        "id": "1-sq3Xwf823T",
        "outputId": "688be574-150d-431d-be5b-bb176e1045b3"
      },
      "outputs": [
        {
          "output_type": "execute_result",
          "data": {
            "text/plain": [
              "         f1        f2         f3  class\n",
              "0  8.477937  0.436289  40.389470      1\n",
              "1  6.704407  6.237227  65.349761      1\n",
              "2  4.835130  4.500931  52.093300      1\n",
              "3  5.179056  9.523951  79.049424      1\n",
              "4  5.030426  4.569668  51.970028      1"
            ],
            "text/html": [
              "\n",
              "  <div id=\"df-7e3fdd82-ea9b-4160-b8d7-2f320f978082\">\n",
              "    <div class=\"colab-df-container\">\n",
              "      <div>\n",
              "<style scoped>\n",
              "    .dataframe tbody tr th:only-of-type {\n",
              "        vertical-align: middle;\n",
              "    }\n",
              "\n",
              "    .dataframe tbody tr th {\n",
              "        vertical-align: top;\n",
              "    }\n",
              "\n",
              "    .dataframe thead th {\n",
              "        text-align: right;\n",
              "    }\n",
              "</style>\n",
              "<table border=\"1\" class=\"dataframe\">\n",
              "  <thead>\n",
              "    <tr style=\"text-align: right;\">\n",
              "      <th></th>\n",
              "      <th>f1</th>\n",
              "      <th>f2</th>\n",
              "      <th>f3</th>\n",
              "      <th>class</th>\n",
              "    </tr>\n",
              "  </thead>\n",
              "  <tbody>\n",
              "    <tr>\n",
              "      <th>0</th>\n",
              "      <td>8.477937</td>\n",
              "      <td>0.436289</td>\n",
              "      <td>40.389470</td>\n",
              "      <td>1</td>\n",
              "    </tr>\n",
              "    <tr>\n",
              "      <th>1</th>\n",
              "      <td>6.704407</td>\n",
              "      <td>6.237227</td>\n",
              "      <td>65.349761</td>\n",
              "      <td>1</td>\n",
              "    </tr>\n",
              "    <tr>\n",
              "      <th>2</th>\n",
              "      <td>4.835130</td>\n",
              "      <td>4.500931</td>\n",
              "      <td>52.093300</td>\n",
              "      <td>1</td>\n",
              "    </tr>\n",
              "    <tr>\n",
              "      <th>3</th>\n",
              "      <td>5.179056</td>\n",
              "      <td>9.523951</td>\n",
              "      <td>79.049424</td>\n",
              "      <td>1</td>\n",
              "    </tr>\n",
              "    <tr>\n",
              "      <th>4</th>\n",
              "      <td>5.030426</td>\n",
              "      <td>4.569668</td>\n",
              "      <td>51.970028</td>\n",
              "      <td>1</td>\n",
              "    </tr>\n",
              "  </tbody>\n",
              "</table>\n",
              "</div>\n",
              "      <button class=\"colab-df-convert\" onclick=\"convertToInteractive('df-7e3fdd82-ea9b-4160-b8d7-2f320f978082')\"\n",
              "              title=\"Convert this dataframe to an interactive table.\"\n",
              "              style=\"display:none;\">\n",
              "        \n",
              "  <svg xmlns=\"http://www.w3.org/2000/svg\" height=\"24px\"viewBox=\"0 0 24 24\"\n",
              "       width=\"24px\">\n",
              "    <path d=\"M0 0h24v24H0V0z\" fill=\"none\"/>\n",
              "    <path d=\"M18.56 5.44l.94 2.06.94-2.06 2.06-.94-2.06-.94-.94-2.06-.94 2.06-2.06.94zm-11 1L8.5 8.5l.94-2.06 2.06-.94-2.06-.94L8.5 2.5l-.94 2.06-2.06.94zm10 10l.94 2.06.94-2.06 2.06-.94-2.06-.94-.94-2.06-.94 2.06-2.06.94z\"/><path d=\"M17.41 7.96l-1.37-1.37c-.4-.4-.92-.59-1.43-.59-.52 0-1.04.2-1.43.59L10.3 9.45l-7.72 7.72c-.78.78-.78 2.05 0 2.83L4 21.41c.39.39.9.59 1.41.59.51 0 1.02-.2 1.41-.59l7.78-7.78 2.81-2.81c.8-.78.8-2.07 0-2.86zM5.41 20L4 18.59l7.72-7.72 1.47 1.35L5.41 20z\"/>\n",
              "  </svg>\n",
              "      </button>\n",
              "      \n",
              "  <style>\n",
              "    .colab-df-container {\n",
              "      display:flex;\n",
              "      flex-wrap:wrap;\n",
              "      gap: 12px;\n",
              "    }\n",
              "\n",
              "    .colab-df-convert {\n",
              "      background-color: #E8F0FE;\n",
              "      border: none;\n",
              "      border-radius: 50%;\n",
              "      cursor: pointer;\n",
              "      display: none;\n",
              "      fill: #1967D2;\n",
              "      height: 32px;\n",
              "      padding: 0 0 0 0;\n",
              "      width: 32px;\n",
              "    }\n",
              "\n",
              "    .colab-df-convert:hover {\n",
              "      background-color: #E2EBFA;\n",
              "      box-shadow: 0px 1px 2px rgba(60, 64, 67, 0.3), 0px 1px 3px 1px rgba(60, 64, 67, 0.15);\n",
              "      fill: #174EA6;\n",
              "    }\n",
              "\n",
              "    [theme=dark] .colab-df-convert {\n",
              "      background-color: #3B4455;\n",
              "      fill: #D2E3FC;\n",
              "    }\n",
              "\n",
              "    [theme=dark] .colab-df-convert:hover {\n",
              "      background-color: #434B5C;\n",
              "      box-shadow: 0px 1px 3px 1px rgba(0, 0, 0, 0.15);\n",
              "      filter: drop-shadow(0px 1px 2px rgba(0, 0, 0, 0.3));\n",
              "      fill: #FFFFFF;\n",
              "    }\n",
              "  </style>\n",
              "\n",
              "      <script>\n",
              "        const buttonEl =\n",
              "          document.querySelector('#df-7e3fdd82-ea9b-4160-b8d7-2f320f978082 button.colab-df-convert');\n",
              "        buttonEl.style.display =\n",
              "          google.colab.kernel.accessAllowed ? 'block' : 'none';\n",
              "\n",
              "        async function convertToInteractive(key) {\n",
              "          const element = document.querySelector('#df-7e3fdd82-ea9b-4160-b8d7-2f320f978082');\n",
              "          const dataTable =\n",
              "            await google.colab.kernel.invokeFunction('convertToInteractive',\n",
              "                                                     [key], {});\n",
              "          if (!dataTable) return;\n",
              "\n",
              "          const docLinkHtml = 'Like what you see? Visit the ' +\n",
              "            '<a target=\"_blank\" href=https://colab.research.google.com/notebooks/data_table.ipynb>data table notebook</a>'\n",
              "            + ' to learn more about interactive tables.';\n",
              "          element.innerHTML = '';\n",
              "          dataTable['output_type'] = 'display_data';\n",
              "          await google.colab.output.renderOutput(dataTable, element);\n",
              "          const docLink = document.createElement('div');\n",
              "          docLink.innerHTML = docLinkHtml;\n",
              "          element.appendChild(docLink);\n",
              "        }\n",
              "      </script>\n",
              "    </div>\n",
              "  </div>\n",
              "  "
            ]
          },
          "metadata": {},
          "execution_count": 8
        }
      ],
      "source": [
        "data.head()"
      ]
    },
    {
      "cell_type": "code",
      "execution_count": 9,
      "metadata": {
        "ExecuteTime": {
          "end_time": "2021-12-21T12:48:09.249911Z",
          "start_time": "2021-12-21T12:48:09.243075Z"
        },
        "colab": {
          "base_uri": "https://localhost:8080/"
        },
        "id": "kWhFosab823U",
        "outputId": "48431db7-300b-42e7-faf5-4533c8da8989"
      },
      "outputs": [
        {
          "output_type": "execute_result",
          "data": {
            "text/plain": [
              "1    100\n",
              "2    100\n",
              "Name: class, dtype: int64"
            ]
          },
          "metadata": {},
          "execution_count": 9
        }
      ],
      "source": [
        "data[\"class\"].value_counts()"
      ]
    },
    {
      "cell_type": "code",
      "execution_count": 10,
      "metadata": {
        "ExecuteTime": {
          "end_time": "2021-12-21T12:48:32.503519Z",
          "start_time": "2021-12-21T12:48:09.873399Z"
        },
        "id": "EC1MtvFr823V"
      },
      "outputs": [],
      "source": [
        "perceptron = Perceptron(no_of_inputs=3)\n",
        "perceptron.train(data.iloc[:,:-1].values,np.array(data.iloc[:,-1]))"
      ]
    },
    {
      "cell_type": "code",
      "execution_count": 11,
      "metadata": {
        "ExecuteTime": {
          "end_time": "2021-12-21T12:48:32.514060Z",
          "start_time": "2021-12-21T12:48:32.506098Z"
        },
        "colab": {
          "base_uri": "https://localhost:8080/"
        },
        "id": "8Vi4RhIu823W",
        "outputId": "58ca3171-f086-4ea5-d635-a2bca39bb810"
      },
      "outputs": [
        {
          "output_type": "execute_result",
          "data": {
            "text/plain": [
              "array([ 1.532     ,  0.384272  ,  0.64909767, -0.12957911])"
            ]
          },
          "metadata": {},
          "execution_count": 11
        }
      ],
      "source": [
        "perceptron.weights"
      ]
    },
    {
      "cell_type": "code",
      "execution_count": 12,
      "metadata": {
        "ExecuteTime": {
          "end_time": "2021-12-21T12:48:39.303834Z",
          "start_time": "2021-12-21T12:48:39.300128Z"
        },
        "id": "Ba5kXp4q823X"
      },
      "outputs": [],
      "source": [
        "from sklearn import metrics"
      ]
    },
    {
      "cell_type": "code",
      "execution_count": 13,
      "metadata": {
        "ExecuteTime": {
          "end_time": "2021-12-21T12:48:39.868065Z",
          "start_time": "2021-12-21T12:48:39.858408Z"
        },
        "colab": {
          "base_uri": "https://localhost:8080/"
        },
        "id": "6amZU3FS823Y",
        "outputId": "2115790c-fff7-4c71-b78f-237ca6ef8b11"
      },
      "outputs": [
        {
          "output_type": "execute_result",
          "data": {
            "text/plain": [
              "1.0"
            ]
          },
          "metadata": {},
          "execution_count": 13
        }
      ],
      "source": [
        "metrics.accuracy_score(perceptron.predict_batch(data.iloc[:,:-1].values),np.array(data.iloc[:,-1]))"
      ]
    },
    {
      "cell_type": "markdown",
      "metadata": {
        "id": "4CKW665f823Z"
      },
      "source": [
        "# PERCERPTRON FOR logisticdrawback.csv"
      ]
    },
    {
      "cell_type": "code",
      "execution_count": 14,
      "metadata": {
        "ExecuteTime": {
          "end_time": "2021-12-21T12:48:41.026816Z",
          "start_time": "2021-12-21T12:48:40.969627Z"
        },
        "id": "cs7_OG29823a"
      },
      "outputs": [],
      "source": [
        "from sklearn.linear_model import Perceptron"
      ]
    },
    {
      "cell_type": "code",
      "execution_count": 15,
      "metadata": {
        "ExecuteTime": {
          "end_time": "2021-12-21T12:48:41.555593Z",
          "start_time": "2021-12-21T12:48:41.544967Z"
        },
        "id": "NsTQYjyn823b"
      },
      "outputs": [],
      "source": [
        "data=pd.read_csv(\"/content/logisticdrawback.csv\")"
      ]
    },
    {
      "cell_type": "code",
      "execution_count": 16,
      "metadata": {
        "ExecuteTime": {
          "end_time": "2021-12-21T12:48:42.194897Z",
          "start_time": "2021-12-21T12:48:42.181667Z"
        },
        "colab": {
          "base_uri": "https://localhost:8080/",
          "height": 423
        },
        "id": "Z3999aop823c",
        "outputId": "e1377673-d7e1-4433-eae3-e6f2acf59e22"
      },
      "outputs": [
        {
          "output_type": "execute_result",
          "data": {
            "text/plain": [
              "           f1        f2  class\n",
              "0   -1.335474  1.376236      1\n",
              "1   -1.918388 -0.528479      1\n",
              "2    0.015120  0.020986      1\n",
              "3   -0.131351  0.119043      1\n",
              "4    0.794606  1.421984      1\n",
              "..        ...       ...    ...\n",
              "295 -0.413737 -8.881763      3\n",
              "296 -6.280134  4.969648      3\n",
              "297 -0.946822  9.196240      3\n",
              "298 -6.139916  5.699856      3\n",
              "299  2.997826 -8.558367      3\n",
              "\n",
              "[300 rows x 3 columns]"
            ],
            "text/html": [
              "\n",
              "  <div id=\"df-db541253-7e1a-43d7-8735-74f9aa1d9413\">\n",
              "    <div class=\"colab-df-container\">\n",
              "      <div>\n",
              "<style scoped>\n",
              "    .dataframe tbody tr th:only-of-type {\n",
              "        vertical-align: middle;\n",
              "    }\n",
              "\n",
              "    .dataframe tbody tr th {\n",
              "        vertical-align: top;\n",
              "    }\n",
              "\n",
              "    .dataframe thead th {\n",
              "        text-align: right;\n",
              "    }\n",
              "</style>\n",
              "<table border=\"1\" class=\"dataframe\">\n",
              "  <thead>\n",
              "    <tr style=\"text-align: right;\">\n",
              "      <th></th>\n",
              "      <th>f1</th>\n",
              "      <th>f2</th>\n",
              "      <th>class</th>\n",
              "    </tr>\n",
              "  </thead>\n",
              "  <tbody>\n",
              "    <tr>\n",
              "      <th>0</th>\n",
              "      <td>-1.335474</td>\n",
              "      <td>1.376236</td>\n",
              "      <td>1</td>\n",
              "    </tr>\n",
              "    <tr>\n",
              "      <th>1</th>\n",
              "      <td>-1.918388</td>\n",
              "      <td>-0.528479</td>\n",
              "      <td>1</td>\n",
              "    </tr>\n",
              "    <tr>\n",
              "      <th>2</th>\n",
              "      <td>0.015120</td>\n",
              "      <td>0.020986</td>\n",
              "      <td>1</td>\n",
              "    </tr>\n",
              "    <tr>\n",
              "      <th>3</th>\n",
              "      <td>-0.131351</td>\n",
              "      <td>0.119043</td>\n",
              "      <td>1</td>\n",
              "    </tr>\n",
              "    <tr>\n",
              "      <th>4</th>\n",
              "      <td>0.794606</td>\n",
              "      <td>1.421984</td>\n",
              "      <td>1</td>\n",
              "    </tr>\n",
              "    <tr>\n",
              "      <th>...</th>\n",
              "      <td>...</td>\n",
              "      <td>...</td>\n",
              "      <td>...</td>\n",
              "    </tr>\n",
              "    <tr>\n",
              "      <th>295</th>\n",
              "      <td>-0.413737</td>\n",
              "      <td>-8.881763</td>\n",
              "      <td>3</td>\n",
              "    </tr>\n",
              "    <tr>\n",
              "      <th>296</th>\n",
              "      <td>-6.280134</td>\n",
              "      <td>4.969648</td>\n",
              "      <td>3</td>\n",
              "    </tr>\n",
              "    <tr>\n",
              "      <th>297</th>\n",
              "      <td>-0.946822</td>\n",
              "      <td>9.196240</td>\n",
              "      <td>3</td>\n",
              "    </tr>\n",
              "    <tr>\n",
              "      <th>298</th>\n",
              "      <td>-6.139916</td>\n",
              "      <td>5.699856</td>\n",
              "      <td>3</td>\n",
              "    </tr>\n",
              "    <tr>\n",
              "      <th>299</th>\n",
              "      <td>2.997826</td>\n",
              "      <td>-8.558367</td>\n",
              "      <td>3</td>\n",
              "    </tr>\n",
              "  </tbody>\n",
              "</table>\n",
              "<p>300 rows × 3 columns</p>\n",
              "</div>\n",
              "      <button class=\"colab-df-convert\" onclick=\"convertToInteractive('df-db541253-7e1a-43d7-8735-74f9aa1d9413')\"\n",
              "              title=\"Convert this dataframe to an interactive table.\"\n",
              "              style=\"display:none;\">\n",
              "        \n",
              "  <svg xmlns=\"http://www.w3.org/2000/svg\" height=\"24px\"viewBox=\"0 0 24 24\"\n",
              "       width=\"24px\">\n",
              "    <path d=\"M0 0h24v24H0V0z\" fill=\"none\"/>\n",
              "    <path d=\"M18.56 5.44l.94 2.06.94-2.06 2.06-.94-2.06-.94-.94-2.06-.94 2.06-2.06.94zm-11 1L8.5 8.5l.94-2.06 2.06-.94-2.06-.94L8.5 2.5l-.94 2.06-2.06.94zm10 10l.94 2.06.94-2.06 2.06-.94-2.06-.94-.94-2.06-.94 2.06-2.06.94z\"/><path d=\"M17.41 7.96l-1.37-1.37c-.4-.4-.92-.59-1.43-.59-.52 0-1.04.2-1.43.59L10.3 9.45l-7.72 7.72c-.78.78-.78 2.05 0 2.83L4 21.41c.39.39.9.59 1.41.59.51 0 1.02-.2 1.41-.59l7.78-7.78 2.81-2.81c.8-.78.8-2.07 0-2.86zM5.41 20L4 18.59l7.72-7.72 1.47 1.35L5.41 20z\"/>\n",
              "  </svg>\n",
              "      </button>\n",
              "      \n",
              "  <style>\n",
              "    .colab-df-container {\n",
              "      display:flex;\n",
              "      flex-wrap:wrap;\n",
              "      gap: 12px;\n",
              "    }\n",
              "\n",
              "    .colab-df-convert {\n",
              "      background-color: #E8F0FE;\n",
              "      border: none;\n",
              "      border-radius: 50%;\n",
              "      cursor: pointer;\n",
              "      display: none;\n",
              "      fill: #1967D2;\n",
              "      height: 32px;\n",
              "      padding: 0 0 0 0;\n",
              "      width: 32px;\n",
              "    }\n",
              "\n",
              "    .colab-df-convert:hover {\n",
              "      background-color: #E2EBFA;\n",
              "      box-shadow: 0px 1px 2px rgba(60, 64, 67, 0.3), 0px 1px 3px 1px rgba(60, 64, 67, 0.15);\n",
              "      fill: #174EA6;\n",
              "    }\n",
              "\n",
              "    [theme=dark] .colab-df-convert {\n",
              "      background-color: #3B4455;\n",
              "      fill: #D2E3FC;\n",
              "    }\n",
              "\n",
              "    [theme=dark] .colab-df-convert:hover {\n",
              "      background-color: #434B5C;\n",
              "      box-shadow: 0px 1px 3px 1px rgba(0, 0, 0, 0.15);\n",
              "      filter: drop-shadow(0px 1px 2px rgba(0, 0, 0, 0.3));\n",
              "      fill: #FFFFFF;\n",
              "    }\n",
              "  </style>\n",
              "\n",
              "      <script>\n",
              "        const buttonEl =\n",
              "          document.querySelector('#df-db541253-7e1a-43d7-8735-74f9aa1d9413 button.colab-df-convert');\n",
              "        buttonEl.style.display =\n",
              "          google.colab.kernel.accessAllowed ? 'block' : 'none';\n",
              "\n",
              "        async function convertToInteractive(key) {\n",
              "          const element = document.querySelector('#df-db541253-7e1a-43d7-8735-74f9aa1d9413');\n",
              "          const dataTable =\n",
              "            await google.colab.kernel.invokeFunction('convertToInteractive',\n",
              "                                                     [key], {});\n",
              "          if (!dataTable) return;\n",
              "\n",
              "          const docLinkHtml = 'Like what you see? Visit the ' +\n",
              "            '<a target=\"_blank\" href=https://colab.research.google.com/notebooks/data_table.ipynb>data table notebook</a>'\n",
              "            + ' to learn more about interactive tables.';\n",
              "          element.innerHTML = '';\n",
              "          dataTable['output_type'] = 'display_data';\n",
              "          await google.colab.output.renderOutput(dataTable, element);\n",
              "          const docLink = document.createElement('div');\n",
              "          docLink.innerHTML = docLinkHtml;\n",
              "          element.appendChild(docLink);\n",
              "        }\n",
              "      </script>\n",
              "    </div>\n",
              "  </div>\n",
              "  "
            ]
          },
          "metadata": {},
          "execution_count": 16
        }
      ],
      "source": [
        "data"
      ]
    },
    {
      "cell_type": "code",
      "execution_count": 17,
      "metadata": {
        "ExecuteTime": {
          "end_time": "2021-12-21T12:48:43.001566Z",
          "start_time": "2021-12-21T12:48:42.764252Z"
        },
        "colab": {
          "base_uri": "https://localhost:8080/",
          "height": 283
        },
        "id": "pJZ8B6OG823d",
        "outputId": "27af0866-9b99-43dd-8184-c82e82963ba4"
      },
      "outputs": [
        {
          "output_type": "execute_result",
          "data": {
            "text/plain": [
              "<matplotlib.collections.PathCollection at 0x7f62f9656050>"
            ]
          },
          "metadata": {},
          "execution_count": 17
        },
        {
          "output_type": "display_data",
          "data": {
            "text/plain": [
              "<Figure size 432x288 with 1 Axes>"
            ],
            "image/png": "[encoded data removed]"
          },
          "metadata": {
            "needs_background": "light"
          }
        }
      ],
      "source": [
        "plt.scatter(data.f1,data.f2,c=data[\"class\"])"
      ]
    },
    {
      "cell_type": "code",
      "execution_count": 18,
      "metadata": {
        "ExecuteTime": {
          "end_time": "2021-12-21T12:48:43.488888Z",
          "start_time": "2021-12-21T12:48:43.484946Z"
        },
        "id": "s2A8XY70823f"
      },
      "outputs": [],
      "source": [
        "model=Perceptron()"
      ]
    },
    {
      "cell_type": "code",
      "execution_count": 19,
      "metadata": {
        "ExecuteTime": {
          "end_time": "2021-12-21T12:48:44.168219Z",
          "start_time": "2021-12-21T12:48:44.160792Z"
        },
        "id": "wuVM9nej823g"
      },
      "outputs": [],
      "source": [
        "X_train, X_test, y_train, y_test = train_test_split(data.iloc[:,:-1],data.iloc[:,-1] ,test_size=0.3, shuffle=True) "
      ]
    },
    {
      "cell_type": "code",
      "execution_count": 20,
      "metadata": {
        "ExecuteTime": {
          "end_time": "2021-12-21T12:48:44.806873Z",
          "start_time": "2021-12-21T12:48:44.792283Z"
        },
        "colab": {
          "base_uri": "https://localhost:8080/"
        },
        "id": "ZrOM3kxx823h",
        "outputId": "2c91a1e6-c792-4796-fbb5-55f3c19c0143"
      },
      "outputs": [
        {
          "output_type": "execute_result",
          "data": {
            "text/plain": [
              "Perceptron()"
            ]
          },
          "metadata": {},
          "execution_count": 20
        }
      ],
      "source": [
        "model.fit(X_train,y_train)"
      ]
    },
    {
      "cell_type": "code",
      "execution_count": 21,
      "metadata": {
        "ExecuteTime": {
          "end_time": "2021-12-21T12:48:45.414075Z",
          "start_time": "2021-12-21T12:48:45.406444Z"
        },
        "colab": {
          "base_uri": "https://localhost:8080/"
        },
        "id": "31nQ0OIR823i",
        "outputId": "2e49611a-0cf1-48a7-fed3-d1bb69cd180d"
      },
      "outputs": [
        {
          "output_type": "execute_result",
          "data": {
            "text/plain": [
              "0.34"
            ]
          },
          "metadata": {},
          "execution_count": 21
        }
      ],
      "source": [
        "metrics.accuracy_score(model.predict(data.iloc[:,:-1].values),np.array(data.iloc[:,-1]))"
      ]
    },
    {
      "cell_type": "code",
      "execution_count": 22,
      "metadata": {
        "ExecuteTime": {
          "end_time": "2021-12-21T12:48:45.996093Z",
          "start_time": "2021-12-21T12:48:45.988447Z"
        },
        "id": "rz6o_UeG823j"
      },
      "outputs": [],
      "source": [
        "data=pd.read_csv(\"logisticdrawback.csv\")"
      ]
    },
    {
      "cell_type": "code",
      "execution_count": 23,
      "metadata": {
        "ExecuteTime": {
          "end_time": "2021-12-21T12:48:46.623109Z",
          "start_time": "2021-12-21T12:48:46.614483Z"
        },
        "colab": {
          "base_uri": "https://localhost:8080/"
        },
        "id": "ejr25I6q823j",
        "outputId": "54b1b4f8-fe92-4c14-bc80-85f25ef53878"
      },
      "outputs": [
        {
          "output_type": "execute_result",
          "data": {
            "text/plain": [
              "array([ 1.532     ,  0.384272  ,  0.64909767, -0.12957911])"
            ]
          },
          "metadata": {},
          "execution_count": 23
        }
      ],
      "source": [
        "perceptron.weights"
      ]
    },
    {
      "cell_type": "markdown",
      "metadata": {
        "heading_collapsed": true,
        "id": "g2U8k7mG823k"
      },
      "source": [
        "# MLP"
      ]
    },
    {
      "cell_type": "markdown",
      "metadata": {
        "id": "joSS60Fx823l"
      },
      "source": [
        "# logistic regression with mlp"
      ]
    },
    {
      "cell_type": "markdown",
      "metadata": {
        "id": "L6p7W2bg823l"
      },
      "source": [
        "![Screenshot%202019-11-28%20at%209.32.46%20PM.png](attachment:Screenshot%202019-11-28%20at%209.32.46%20PM.png)"
      ]
    },
    {
      "cell_type": "code",
      "execution_count": 24,
      "metadata": {
        "ExecuteTime": {
          "end_time": "2021-12-21T12:48:49.191734Z",
          "start_time": "2021-12-21T12:48:49.102835Z"
        },
        "id": "v85t92QL823m"
      },
      "outputs": [],
      "source": [
        "import seaborn as sns \n",
        "iris=sns.load_dataset(\"iris\")\n",
        "def f(x):\n",
        "    if x==\"setosa\":\n",
        "        return 0\n",
        "    if x==\"versicolor\":\n",
        "        return 1\n",
        "    if x==\"virginica\":\n",
        "        return 2\n",
        "iris[\"species\"]=iris[\"species\"].apply(f)"
      ]
    },
    {
      "cell_type": "code",
      "execution_count": 25,
      "metadata": {
        "ExecuteTime": {
          "end_time": "2021-12-21T12:48:49.737182Z",
          "start_time": "2021-12-21T12:48:49.712795Z"
        },
        "colab": {
          "base_uri": "https://localhost:8080/",
          "height": 423
        },
        "id": "C4EgWh_K823n",
        "outputId": "b207e9b0-b8bc-42a6-fbfc-ed9b8f7334a2"
      },
      "outputs": [
        {
          "output_type": "execute_result",
          "data": {
            "text/plain": [
              "     sepal_length  sepal_width  petal_length  petal_width  species\n",
              "0             5.1          3.5           1.4          0.2        0\n",
              "1             4.9          3.0           1.4          0.2        0\n",
              "2             4.7          3.2           1.3          0.2        0\n",
              "3             4.6          3.1           1.5          0.2        0\n",
              "4             5.0          3.6           1.4          0.2        0\n",
              "..            ...          ...           ...          ...      ...\n",
              "145           6.7          3.0           5.2          2.3        2\n",
              "146           6.3          2.5           5.0          1.9        2\n",
              "147           6.5          3.0           5.2          2.0        2\n",
              "148           6.2          3.4           5.4          2.3        2\n",
              "149           5.9          3.0           5.1          1.8        2\n",
              "\n",
              "[150 rows x 5 columns]"
            ],
            "text/html": [
              "\n",
              "  <div id=\"df-5137d31e-f990-40df-8289-fdd85427dffa\">\n",
              "    <div class=\"colab-df-container\">\n",
              "      <div>\n",
              "<style scoped>\n",
              "    .dataframe tbody tr th:only-of-type {\n",
              "        vertical-align: middle;\n",
              "    }\n",
              "\n",
              "    .dataframe tbody tr th {\n",
              "        vertical-align: top;\n",
              "    }\n",
              "\n",
              "    .dataframe thead th {\n",
              "        text-align: right;\n",
              "    }\n",
              "</style>\n",
              "<table border=\"1\" class=\"dataframe\">\n",
              "  <thead>\n",
              "    <tr style=\"text-align: right;\">\n",
              "      <th></th>\n",
              "      <th>sepal_length</th>\n",
              "      <th>sepal_width</th>\n",
              "      <th>petal_length</th>\n",
              "      <th>petal_width</th>\n",
              "      <th>species</th>\n",
              "    </tr>\n",
              "  </thead>\n",
              "  <tbody>\n",
              "    <tr>\n",
              "      <th>0</th>\n",
              "      <td>5.1</td>\n",
              "      <td>3.5</td>\n",
              "      <td>1.4</td>\n",
              "      <td>0.2</td>\n",
              "      <td>0</td>\n",
              "    </tr>\n",
              "    <tr>\n",
              "      <th>1</th>\n",
              "      <td>4.9</td>\n",
              "      <td>3.0</td>\n",
              "      <td>1.4</td>\n",
              "      <td>0.2</td>\n",
              "      <td>0</td>\n",
              "    </tr>\n",
              "    <tr>\n",
              "      <th>2</th>\n",
              "      <td>4.7</td>\n",
              "      <td>3.2</td>\n",
              "      <td>1.3</td>\n",
              "      <td>0.2</td>\n",
              "      <td>0</td>\n",
              "    </tr>\n",
              "    <tr>\n",
              "      <th>3</th>\n",
              "      <td>4.6</td>\n",
              "      <td>3.1</td>\n",
              "      <td>1.5</td>\n",
              "      <td>0.2</td>\n",
              "      <td>0</td>\n",
              "    </tr>\n",
              "    <tr>\n",
              "      <th>4</th>\n",
              "      <td>5.0</td>\n",
              "      <td>3.6</td>\n",
              "      <td>1.4</td>\n",
              "      <td>0.2</td>\n",
              "      <td>0</td>\n",
              "    </tr>\n",
              "    <tr>\n",
              "      <th>...</th>\n",
              "      <td>...</td>\n",
              "      <td>...</td>\n",
              "      <td>...</td>\n",
              "      <td>...</td>\n",
              "      <td>...</td>\n",
              "    </tr>\n",
              "    <tr>\n",
              "      <th>145</th>\n",
              "      <td>6.7</td>\n",
              "      <td>3.0</td>\n",
              "      <td>5.2</td>\n",
              "      <td>2.3</td>\n",
              "      <td>2</td>\n",
              "    </tr>\n",
              "    <tr>\n",
              "      <th>146</th>\n",
              "      <td>6.3</td>\n",
              "      <td>2.5</td>\n",
              "      <td>5.0</td>\n",
              "      <td>1.9</td>\n",
              "      <td>2</td>\n",
              "    </tr>\n",
              "    <tr>\n",
              "      <th>147</th>\n",
              "      <td>6.5</td>\n",
              "      <td>3.0</td>\n",
              "      <td>5.2</td>\n",
              "      <td>2.0</td>\n",
              "      <td>2</td>\n",
              "    </tr>\n",
              "    <tr>\n",
              "      <th>148</th>\n",
              "      <td>6.2</td>\n",
              "      <td>3.4</td>\n",
              "      <td>5.4</td>\n",
              "      <td>2.3</td>\n",
              "      <td>2</td>\n",
              "    </tr>\n",
              "    <tr>\n",
              "      <th>149</th>\n",
              "      <td>5.9</td>\n",
              "      <td>3.0</td>\n",
              "      <td>5.1</td>\n",
              "      <td>1.8</td>\n",
              "      <td>2</td>\n",
              "    </tr>\n",
              "  </tbody>\n",
              "</table>\n",
              "<p>150 rows × 5 columns</p>\n",
              "</div>\n",
              "      <button class=\"colab-df-convert\" onclick=\"convertToInteractive('df-5137d31e-f990-40df-8289-fdd85427dffa')\"\n",
              "              title=\"Convert this dataframe to an interactive table.\"\n",
              "              style=\"display:none;\">\n",
              "        \n",
              "  <svg xmlns=\"http://www.w3.org/2000/svg\" height=\"24px\"viewBox=\"0 0 24 24\"\n",
              "       width=\"24px\">\n",
              "    <path d=\"M0 0h24v24H0V0z\" fill=\"none\"/>\n",
              "    <path d=\"M18.56 5.44l.94 2.06.94-2.06 2.06-.94-2.06-.94-.94-2.06-.94 2.06-2.06.94zm-11 1L8.5 8.5l.94-2.06 2.06-.94-2.06-.94L8.5 2.5l-.94 2.06-2.06.94zm10 10l.94 2.06.94-2.06 2.06-.94-2.06-.94-.94-2.06-.94 2.06-2.06.94z\"/><path d=\"M17.41 7.96l-1.37-1.37c-.4-.4-.92-.59-1.43-.59-.52 0-1.04.2-1.43.59L10.3 9.45l-7.72 7.72c-.78.78-.78 2.05 0 2.83L4 21.41c.39.39.9.59 1.41.59.51 0 1.02-.2 1.41-.59l7.78-7.78 2.81-2.81c.8-.78.8-2.07 0-2.86zM5.41 20L4 18.59l7.72-7.72 1.47 1.35L5.41 20z\"/>\n",
              "  </svg>\n",
              "      </button>\n",
              "      \n",
              "  <style>\n",
              "    .colab-df-container {\n",
              "      display:flex;\n",
              "      flex-wrap:wrap;\n",
              "      gap: 12px;\n",
              "    }\n",
              "\n",
              "    .colab-df-convert {\n",
              "      background-color: #E8F0FE;\n",
              "      border: none;\n",
              "      border-radius: 50%;\n",
              "      cursor: pointer;\n",
              "      display: none;\n",
              "      fill: #1967D2;\n",
              "      height: 32px;\n",
              "      padding: 0 0 0 0;\n",
              "      width: 32px;\n",
              "    }\n",
              "\n",
              "    .colab-df-convert:hover {\n",
              "      background-color: #E2EBFA;\n",
              "      box-shadow: 0px 1px 2px rgba(60, 64, 67, 0.3), 0px 1px 3px 1px rgba(60, 64, 67, 0.15);\n",
              "      fill: #174EA6;\n",
              "    }\n",
              "\n",
              "    [theme=dark] .colab-df-convert {\n",
              "      background-color: #3B4455;\n",
              "      fill: #D2E3FC;\n",
              "    }\n",
              "\n",
              "    [theme=dark] .colab-df-convert:hover {\n",
              "      background-color: #434B5C;\n",
              "      box-shadow: 0px 1px 3px 1px rgba(0, 0, 0, 0.15);\n",
              "      filter: drop-shadow(0px 1px 2px rgba(0, 0, 0, 0.3));\n",
              "      fill: #FFFFFF;\n",
              "    }\n",
              "  </style>\n",
              "\n",
              "      <script>\n",
              "        const buttonEl =\n",
              "          document.querySelector('#df-5137d31e-f990-40df-8289-fdd85427dffa button.colab-df-convert');\n",
              "        buttonEl.style.display =\n",
              "          google.colab.kernel.accessAllowed ? 'block' : 'none';\n",
              "\n",
              "        async function convertToInteractive(key) {\n",
              "          const element = document.querySelector('#df-5137d31e-f990-40df-8289-fdd85427dffa');\n",
              "          const dataTable =\n",
              "            await google.colab.kernel.invokeFunction('convertToInteractive',\n",
              "                                                     [key], {});\n",
              "          if (!dataTable) return;\n",
              "\n",
              "          const docLinkHtml = 'Like what you see? Visit the ' +\n",
              "            '<a target=\"_blank\" href=https://colab.research.google.com/notebooks/data_table.ipynb>data table notebook</a>'\n",
              "            + ' to learn more about interactive tables.';\n",
              "          element.innerHTML = '';\n",
              "          dataTable['output_type'] = 'display_data';\n",
              "          await google.colab.output.renderOutput(dataTable, element);\n",
              "          const docLink = document.createElement('div');\n",
              "          docLink.innerHTML = docLinkHtml;\n",
              "          element.appendChild(docLink);\n",
              "        }\n",
              "      </script>\n",
              "    </div>\n",
              "  </div>\n",
              "  "
            ]
          },
          "metadata": {},
          "execution_count": 25
        }
      ],
      "source": [
        "iris"
      ]
    },
    {
      "cell_type": "code",
      "execution_count": 26,
      "metadata": {
        "ExecuteTime": {
          "end_time": "2021-12-21T12:49:06.058894Z",
          "start_time": "2021-12-21T12:48:50.280788Z"
        },
        "scrolled": false,
        "colab": {
          "base_uri": "https://localhost:8080/"
        },
        "id": "1eDBxI6i823o",
        "outputId": "1771f73f-d9a9-4753-a9ba-65152bcc6b81"
      },
      "outputs": [
        {
          "output_type": "stream",
          "name": "stdout",
          "text": [
            "Epoch 1/20\n",
            "4/4 [==============================] - 1s 4ms/step - loss: 7.5107 - accuracy: 0.3417\n",
            "Epoch 2/20\n",
            "4/4 [==============================] - 0s 3ms/step - loss: 2.7967 - accuracy: 0.3000\n",
            "Epoch 3/20\n",
            "4/4 [==============================] - 0s 3ms/step - loss: 1.9425 - accuracy: 0.4333\n",
            "Epoch 4/20\n",
            "4/4 [==============================] - 0s 3ms/step - loss: 1.5101 - accuracy: 0.4417\n",
            "Epoch 5/20\n",
            "4/4 [==============================] - 0s 3ms/step - loss: 0.8541 - accuracy: 0.4917\n",
            "Epoch 6/20\n",
            "4/4 [==============================] - 0s 3ms/step - loss: 0.7171 - accuracy: 0.5833\n",
            "Epoch 7/20\n",
            "4/4 [==============================] - 0s 3ms/step - loss: 0.5901 - accuracy: 0.7417\n",
            "Epoch 8/20\n",
            "4/4 [==============================] - 0s 3ms/step - loss: 0.5486 - accuracy: 0.8750\n",
            "Epoch 9/20\n",
            "4/4 [==============================] - 0s 3ms/step - loss: 0.5134 - accuracy: 0.7917\n",
            "Epoch 10/20\n",
            "4/4 [==============================] - 0s 3ms/step - loss: 0.4878 - accuracy: 0.8000\n",
            "Epoch 11/20\n",
            "4/4 [==============================] - 0s 3ms/step - loss: 0.4715 - accuracy: 0.9583\n",
            "Epoch 12/20\n",
            "4/4 [==============================] - 0s 3ms/step - loss: 0.4566 - accuracy: 0.9000\n",
            "Epoch 13/20\n",
            "4/4 [==============================] - 0s 3ms/step - loss: 0.4449 - accuracy: 0.9333\n",
            "Epoch 14/20\n",
            "4/4 [==============================] - 0s 3ms/step - loss: 0.4404 - accuracy: 0.9083\n",
            "Epoch 15/20\n",
            "4/4 [==============================] - 0s 4ms/step - loss: 0.4277 - accuracy: 0.9417\n",
            "Epoch 16/20\n",
            "4/4 [==============================] - 0s 3ms/step - loss: 0.4161 - accuracy: 0.9000\n",
            "Epoch 17/20\n",
            "4/4 [==============================] - 0s 4ms/step - loss: 0.4075 - accuracy: 0.9500\n",
            "Epoch 18/20\n",
            "4/4 [==============================] - 0s 4ms/step - loss: 0.4014 - accuracy: 0.9250\n",
            "Epoch 19/20\n",
            "4/4 [==============================] - 0s 3ms/step - loss: 0.3915 - accuracy: 0.9417\n",
            "Epoch 20/20\n",
            "4/4 [==============================] - 0s 3ms/step - loss: 0.4015 - accuracy: 0.9083\n",
            "1/1 [==============================] - 0s 152ms/step - loss: 0.3747 - accuracy: 0.9000\n"
          ]
        }
      ],
      "source": [
        "import tensorflow as tf\n",
        "\n",
        "# Generate dummy data\n",
        "import numpy as np\n",
        "# x_train = np.random.random((120, 4))\n",
        "# y_train = keras.utils.to_categorical(np.random.randint(3, size=(120, 1)), num_classes=3)\n",
        "# x_test = np.random.random((30, 4))\n",
        "# y_test = keras.utils.to_categorical(np.random.randint(3, size=(30, 1)), num_classes=3)\n",
        "x_train,x_test,y_train,y_test=train_test_split(iris.iloc[:,:4],iris.iloc[:,-1], test_size=0.2)\n",
        "y__test = tf.keras.utils.to_categorical(y_test)\n",
        "y__train = tf.keras.utils.to_categorical(y_train)\n",
        "\n",
        "\n",
        "model = tf.keras.models.Sequential()\n",
        "# Dense(64) is a fully-connected layer with 64 hidden units.\n",
        "# in the first layer, you must specify the expected input data shape:\n",
        "# here, 20-dimensional vectors.\n",
        "#model.add(Dense(10, activation='relu',input_dim=4))\n",
        "\n",
        "\n",
        "model.add(tf.keras.layers.Dense(3, activation='softmax',input_dim=4))\n",
        "#model.add(Dropout(0.5))\n",
        "#model.add(Dense(64, activation='relu'))\n",
        "#model.add(Dropout(0.5))\n",
        "#model.add(Dense(3, activation='softmax'))\n",
        "\n",
        "sgd =  tf.keras.optimizers.SGD(lr=0.01, decay=1e-6, momentum=0.9, nesterov=True)\n",
        "model.compile(loss='categorical_crossentropy',\n",
        "              optimizer=sgd,\n",
        "              metrics=['accuracy'])\n",
        "\n",
        "model.fit(x_train.values, y__train,\n",
        "          epochs=20,\n",
        "          batch_size=32)\n",
        "score = model.evaluate(x_test, y__test)"
      ]
    },
    {
      "cell_type": "code",
      "execution_count": 27,
      "metadata": {
        "ExecuteTime": {
          "end_time": "2021-12-21T12:49:06.067234Z",
          "start_time": "2021-12-21T12:49:06.062119Z"
        },
        "colab": {
          "base_uri": "https://localhost:8080/"
        },
        "id": "FXyD7LL3823p",
        "outputId": "9ebd5dbc-e493-4a35-c3e4-52e3eb51e8d9"
      },
      "outputs": [
        {
          "output_type": "execute_result",
          "data": {
            "text/plain": [
              "[0.37474995851516724, 0.8999999761581421]"
            ]
          },
          "metadata": {},
          "execution_count": 27
        }
      ],
      "source": [
        "score "
      ]
    },
    {
      "cell_type": "code",
      "execution_count": 33,
      "metadata": {
        "ExecuteTime": {
          "end_time": "2021-12-21T12:50:10.716733Z",
          "start_time": "2021-12-21T12:50:10.710922Z"
        },
        "id": "PQYhHlbR823q"
      },
      "outputs": [],
      "source": [
        "weights = model.layers[0].get_weights()[0]\n",
        "biases = model.layers[0].get_weights()[1]"
      ]
    },
    {
      "cell_type": "code",
      "execution_count": 34,
      "metadata": {
        "ExecuteTime": {
          "end_time": "2021-12-21T12:50:11.237597Z",
          "start_time": "2021-12-21T12:50:11.232058Z"
        },
        "colab": {
          "base_uri": "https://localhost:8080/"
        },
        "id": "7yNPKKpw823q",
        "outputId": "d5df5001-03c0-443f-fc9a-56e282331a4a"
      },
      "outputs": [
        {
          "output_type": "execute_result",
          "data": {
            "text/plain": [
              "array([[ 0.36099458,  0.03599107, -0.5252543 ],\n",
              "       [ 0.7683004 , -0.13818987, -0.47500008],\n",
              "       [-1.1454546 ,  0.6551966 ,  1.429049  ],\n",
              "       [ 0.21843773, -0.12137157,  0.52630466]], dtype=float32)"
            ]
          },
          "metadata": {},
          "execution_count": 34
        }
      ],
      "source": [
        "weights"
      ]
    },
    {
      "cell_type": "code",
      "execution_count": 35,
      "metadata": {
        "ExecuteTime": {
          "end_time": "2021-12-21T12:50:12.495540Z",
          "start_time": "2021-12-21T12:50:12.490163Z"
        },
        "colab": {
          "base_uri": "https://localhost:8080/"
        },
        "id": "mazZnR2s823r",
        "outputId": "1b92b708-2597-41dc-d43b-2821b2b897f3"
      },
      "outputs": [
        {
          "output_type": "execute_result",
          "data": {
            "text/plain": [
              "array([ 0.27709287, -0.11197317, -0.1651198 ], dtype=float32)"
            ]
          },
          "metadata": {},
          "execution_count": 35
        }
      ],
      "source": [
        "biases"
      ]
    },
    {
      "cell_type": "code",
      "execution_count": 37,
      "metadata": {
        "ExecuteTime": {
          "end_time": "2021-12-21T12:50:13.666181Z",
          "start_time": "2021-12-21T12:50:13.661029Z"
        },
        "id": "N4KoCNNA823s"
      },
      "outputs": [],
      "source": [
        "from sklearn.linear_model import LogisticRegression\n",
        "from sklearn.metrics import confusion_matrix\n"
      ]
    },
    {
      "cell_type": "code",
      "execution_count": 38,
      "metadata": {
        "ExecuteTime": {
          "end_time": "2021-12-21T12:50:14.328175Z",
          "start_time": "2021-12-21T12:50:14.291615Z"
        },
        "colab": {
          "base_uri": "https://localhost:8080/"
        },
        "id": "Tgxk_kXu823s",
        "outputId": "7cbdd248-0de0-49b2-f65d-3aaaa5340d97"
      },
      "outputs": [
        {
          "output_type": "execute_result",
          "data": {
            "text/plain": [
              "LogisticRegression()"
            ]
          },
          "metadata": {},
          "execution_count": 38
        }
      ],
      "source": [
        "l=LogisticRegression()\n",
        "l.fit(x_train, y_train)"
      ]
    },
    {
      "cell_type": "code",
      "execution_count": 39,
      "metadata": {
        "ExecuteTime": {
          "end_time": "2021-12-21T12:50:15.842127Z",
          "start_time": "2021-12-21T12:50:15.835875Z"
        },
        "colab": {
          "base_uri": "https://localhost:8080/"
        },
        "id": "-5dM74mS823s",
        "outputId": "a2122d2e-1354-47ae-ad06-969ab1a8925d"
      },
      "outputs": [
        {
          "output_type": "execute_result",
          "data": {
            "text/plain": [
              "array([  9.14328081,   1.83049575, -10.97377656])"
            ]
          },
          "metadata": {},
          "execution_count": 39
        }
      ],
      "source": [
        "l.intercept_"
      ]
    },
    {
      "cell_type": "code",
      "execution_count": 40,
      "metadata": {
        "ExecuteTime": {
          "end_time": "2021-12-21T12:50:16.942115Z",
          "start_time": "2021-12-21T12:50:16.936218Z"
        },
        "colab": {
          "base_uri": "https://localhost:8080/"
        },
        "id": "Agt_8FAr823t",
        "outputId": "c404890e-4ac8-4d3a-9924-5245984eaff9"
      },
      "outputs": [
        {
          "output_type": "execute_result",
          "data": {
            "text/plain": [
              "array([[-0.37753544,  0.92301346, -2.38143248, -0.97660012],\n",
              "       [ 0.53704616, -0.30910602, -0.19922406, -0.81856489],\n",
              "       [-0.15951072, -0.61390744,  2.58065653,  1.79516501]])"
            ]
          },
          "metadata": {},
          "execution_count": 40
        }
      ],
      "source": [
        "l.coef_"
      ]
    },
    {
      "cell_type": "code",
      "execution_count": 41,
      "metadata": {
        "ExecuteTime": {
          "end_time": "2021-12-21T12:50:17.969505Z",
          "start_time": "2021-12-21T12:50:17.931790Z"
        },
        "colab": {
          "base_uri": "https://localhost:8080/"
        },
        "id": "QzCOH2oO823t",
        "outputId": "39a3c2d2-e226-4c53-acc2-94f6c557863e"
      },
      "outputs": [
        {
          "output_type": "execute_result",
          "data": {
            "text/plain": [
              "array([[10,  0,  0],\n",
              "       [ 0,  9,  0],\n",
              "       [ 0,  0, 11]])"
            ]
          },
          "metadata": {},
          "execution_count": 41
        }
      ],
      "source": [
        "l=LogisticRegression()\n",
        "l.fit(x_train,y_train)\n",
        "confusion_matrix(y_test,l.predict(x_test))"
      ]
    },
    {
      "cell_type": "code",
      "execution_count": 42,
      "metadata": {
        "ExecuteTime": {
          "end_time": "2021-12-21T12:50:19.107867Z",
          "start_time": "2021-12-21T12:50:19.091043Z"
        },
        "colab": {
          "base_uri": "https://localhost:8080/",
          "height": 206
        },
        "id": "Ak1BXIiq823u",
        "outputId": "03d0afba-d838-4f72-dab0-8d4485e96ae1"
      },
      "outputs": [
        {
          "output_type": "execute_result",
          "data": {
            "text/plain": [
              "   sepal_length  sepal_width  petal_length  petal_width  species\n",
              "0           5.1          3.5           1.4          0.2        0\n",
              "1           4.9          3.0           1.4          0.2        0\n",
              "2           4.7          3.2           1.3          0.2        0\n",
              "3           4.6          3.1           1.5          0.2        0\n",
              "4           5.0          3.6           1.4          0.2        0"
            ],
            "text/html": [
              "\n",
              "  <div id=\"df-9b9a3f93-aab4-4a38-81d5-99110b7a49b5\">\n",
              "    <div class=\"colab-df-container\">\n",
              "      <div>\n",
              "<style scoped>\n",
              "    .dataframe tbody tr th:only-of-type {\n",
              "        vertical-align: middle;\n",
              "    }\n",
              "\n",
              "    .dataframe tbody tr th {\n",
              "        vertical-align: top;\n",
              "    }\n",
              "\n",
              "    .dataframe thead th {\n",
              "        text-align: right;\n",
              "    }\n",
              "</style>\n",
              "<table border=\"1\" class=\"dataframe\">\n",
              "  <thead>\n",
              "    <tr style=\"text-align: right;\">\n",
              "      <th></th>\n",
              "      <th>sepal_length</th>\n",
              "      <th>sepal_width</th>\n",
              "      <th>petal_length</th>\n",
              "      <th>petal_width</th>\n",
              "      <th>species</th>\n",
              "    </tr>\n",
              "  </thead>\n",
              "  <tbody>\n",
              "    <tr>\n",
              "      <th>0</th>\n",
              "      <td>5.1</td>\n",
              "      <td>3.5</td>\n",
              "      <td>1.4</td>\n",
              "      <td>0.2</td>\n",
              "      <td>0</td>\n",
              "    </tr>\n",
              "    <tr>\n",
              "      <th>1</th>\n",
              "      <td>4.9</td>\n",
              "      <td>3.0</td>\n",
              "      <td>1.4</td>\n",
              "      <td>0.2</td>\n",
              "      <td>0</td>\n",
              "    </tr>\n",
              "    <tr>\n",
              "      <th>2</th>\n",
              "      <td>4.7</td>\n",
              "      <td>3.2</td>\n",
              "      <td>1.3</td>\n",
              "      <td>0.2</td>\n",
              "      <td>0</td>\n",
              "    </tr>\n",
              "    <tr>\n",
              "      <th>3</th>\n",
              "      <td>4.6</td>\n",
              "      <td>3.1</td>\n",
              "      <td>1.5</td>\n",
              "      <td>0.2</td>\n",
              "      <td>0</td>\n",
              "    </tr>\n",
              "    <tr>\n",
              "      <th>4</th>\n",
              "      <td>5.0</td>\n",
              "      <td>3.6</td>\n",
              "      <td>1.4</td>\n",
              "      <td>0.2</td>\n",
              "      <td>0</td>\n",
              "    </tr>\n",
              "  </tbody>\n",
              "</table>\n",
              "</div>\n",
              "      <button class=\"colab-df-convert\" onclick=\"convertToInteractive('df-9b9a3f93-aab4-4a38-81d5-99110b7a49b5')\"\n",
              "              title=\"Convert this dataframe to an interactive table.\"\n",
              "              style=\"display:none;\">\n",
              "        \n",
              "  <svg xmlns=\"http://www.w3.org/2000/svg\" height=\"24px\"viewBox=\"0 0 24 24\"\n",
              "       width=\"24px\">\n",
              "    <path d=\"M0 0h24v24H0V0z\" fill=\"none\"/>\n",
              "    <path d=\"M18.56 5.44l.94 2.06.94-2.06 2.06-.94-2.06-.94-.94-2.06-.94 2.06-2.06.94zm-11 1L8.5 8.5l.94-2.06 2.06-.94-2.06-.94L8.5 2.5l-.94 2.06-2.06.94zm10 10l.94 2.06.94-2.06 2.06-.94-2.06-.94-.94-2.06-.94 2.06-2.06.94z\"/><path d=\"M17.41 7.96l-1.37-1.37c-.4-.4-.92-.59-1.43-.59-.52 0-1.04.2-1.43.59L10.3 9.45l-7.72 7.72c-.78.78-.78 2.05 0 2.83L4 21.41c.39.39.9.59 1.41.59.51 0 1.02-.2 1.41-.59l7.78-7.78 2.81-2.81c.8-.78.8-2.07 0-2.86zM5.41 20L4 18.59l7.72-7.72 1.47 1.35L5.41 20z\"/>\n",
              "  </svg>\n",
              "      </button>\n",
              "      \n",
              "  <style>\n",
              "    .colab-df-container {\n",
              "      display:flex;\n",
              "      flex-wrap:wrap;\n",
              "      gap: 12px;\n",
              "    }\n",
              "\n",
              "    .colab-df-convert {\n",
              "      background-color: #E8F0FE;\n",
              "      border: none;\n",
              "      border-radius: 50%;\n",
              "      cursor: pointer;\n",
              "      display: none;\n",
              "      fill: #1967D2;\n",
              "      height: 32px;\n",
              "      padding: 0 0 0 0;\n",
              "      width: 32px;\n",
              "    }\n",
              "\n",
              "    .colab-df-convert:hover {\n",
              "      background-color: #E2EBFA;\n",
              "      box-shadow: 0px 1px 2px rgba(60, 64, 67, 0.3), 0px 1px 3px 1px rgba(60, 64, 67, 0.15);\n",
              "      fill: #174EA6;\n",
              "    }\n",
              "\n",
              "    [theme=dark] .colab-df-convert {\n",
              "      background-color: #3B4455;\n",
              "      fill: #D2E3FC;\n",
              "    }\n",
              "\n",
              "    [theme=dark] .colab-df-convert:hover {\n",
              "      background-color: #434B5C;\n",
              "      box-shadow: 0px 1px 3px 1px rgba(0, 0, 0, 0.15);\n",
              "      filter: drop-shadow(0px 1px 2px rgba(0, 0, 0, 0.3));\n",
              "      fill: #FFFFFF;\n",
              "    }\n",
              "  </style>\n",
              "\n",
              "      <script>\n",
              "        const buttonEl =\n",
              "          document.querySelector('#df-9b9a3f93-aab4-4a38-81d5-99110b7a49b5 button.colab-df-convert');\n",
              "        buttonEl.style.display =\n",
              "          google.colab.kernel.accessAllowed ? 'block' : 'none';\n",
              "\n",
              "        async function convertToInteractive(key) {\n",
              "          const element = document.querySelector('#df-9b9a3f93-aab4-4a38-81d5-99110b7a49b5');\n",
              "          const dataTable =\n",
              "            await google.colab.kernel.invokeFunction('convertToInteractive',\n",
              "                                                     [key], {});\n",
              "          if (!dataTable) return;\n",
              "\n",
              "          const docLinkHtml = 'Like what you see? Visit the ' +\n",
              "            '<a target=\"_blank\" href=https://colab.research.google.com/notebooks/data_table.ipynb>data table notebook</a>'\n",
              "            + ' to learn more about interactive tables.';\n",
              "          element.innerHTML = '';\n",
              "          dataTable['output_type'] = 'display_data';\n",
              "          await google.colab.output.renderOutput(dataTable, element);\n",
              "          const docLink = document.createElement('div');\n",
              "          docLink.innerHTML = docLinkHtml;\n",
              "          element.appendChild(docLink);\n",
              "        }\n",
              "      </script>\n",
              "    </div>\n",
              "  </div>\n",
              "  "
            ]
          },
          "metadata": {},
          "execution_count": 42
        }
      ],
      "source": [
        "iris.head()"
      ]
    },
    {
      "cell_type": "markdown",
      "metadata": {
        "id": "sO3IFz1G823v"
      },
      "source": [
        "# problems with traditional ann"
      ]
    },
    {
      "cell_type": "code",
      "execution_count": 43,
      "metadata": {
        "ExecuteTime": {
          "end_time": "2021-12-21T12:50:20.668148Z",
          "start_time": "2021-12-21T12:50:20.653467Z"
        },
        "id": "3XBLSCKG823v"
      },
      "outputs": [],
      "source": [
        "import matplotlib.pyplot as plt\n",
        "%matplotlib inline"
      ]
    },
    {
      "cell_type": "code",
      "execution_count": 44,
      "metadata": {
        "ExecuteTime": {
          "end_time": "2021-12-21T12:50:22.295087Z",
          "start_time": "2021-12-21T12:50:21.637712Z"
        },
        "colab": {
          "base_uri": "https://localhost:8080/",
          "height": 323
        },
        "id": "ZflEO4_Q823w",
        "outputId": "cbbc7690-87e4-4639-b5ea-c2e4d1cdf6f1"
      },
      "outputs": [
        {
          "output_type": "stream",
          "name": "stdout",
          "text": [
            "Downloading data from https://storage.googleapis.com/tensorflow/tf-keras-datasets/mnist.npz\n",
            "11493376/11490434 [==============================] - 0s 0us/step\n",
            "11501568/11490434 [==============================] - 0s 0us/step\n"
          ]
        },
        {
          "output_type": "display_data",
          "data": {
            "text/plain": [
              "<Figure size 432x288 with 4 Axes>"
            ],
            "image/png": "[encoded data removed]"
          },
          "metadata": {
            "needs_background": "light"
          }
        }
      ],
      "source": [
        "# load (downloaded if needed) the MNIST dataset\n",
        "(X_train, y_train), (X_test, y_test) = tf.keras.datasets.mnist.load_data()\n",
        "# plot 4 images as gray scale\n",
        "plt.subplot(221)\n",
        "plt.imshow(X_train[0], cmap=plt.get_cmap('gray'))\n",
        "plt.subplot(222)\n",
        "plt.imshow(X_train[1], cmap=plt.get_cmap('gray'))\n",
        "plt.subplot(223)\n",
        "plt.imshow(X_train[2], cmap=plt.get_cmap('gray'))\n",
        "plt.subplot(224)\n",
        "plt.imshow(X_train[3], cmap=plt.get_cmap('gray'))\n",
        "# show the plot\n",
        "plt.show()"
      ]
    },
    {
      "cell_type": "code",
      "execution_count": 45,
      "metadata": {
        "ExecuteTime": {
          "end_time": "2021-12-21T12:50:23.306539Z",
          "start_time": "2021-12-21T12:50:23.298403Z"
        },
        "colab": {
          "base_uri": "https://localhost:8080/"
        },
        "id": "nrfToeKz823w",
        "outputId": "5c6199c9-1254-4ac8-8b32-e2e059898da7"
      },
      "outputs": [
        {
          "output_type": "execute_result",
          "data": {
            "text/plain": [
              "array([[  0,   0,   0,   0,   0,   0,   0,   0,   0,   0,   0,   0,   0,\n",
              "          0,   0,   0,   0,   0,   0,   0,   0,   0,   0,   0,   0,   0,\n",
              "          0,   0],\n",
              "       [  0,   0,   0,   0,   0,   0,   0,   0,   0,   0,   0,   0,   0,\n",
              "          0,   0,   0,   0,   0,   0,   0,   0,   0,   0,   0,   0,   0,\n",
              "          0,   0],\n",
              "       [  0,   0,   0,   0,   0,   0,   0,   0,   0,   0,   0,   0,   0,\n",
              "          0,   0,   0,   0,   0,   0,   0,   0,   0,   0,   0,   0,   0,\n",
              "          0,   0],\n",
              "       [  0,   0,   0,   0,   0,   0,   0,   0,   0,   0,   0,   0,   0,\n",
              "          0,   0,   0,   0,   0,   0,   0,   0,   0,   0,   0,   0,   0,\n",
              "          0,   0],\n",
              "       [  0,   0,   0,   0,   0,   0,   0,   0,   0,   0,   0,   0,   0,\n",
              "          0,   0,   0,   0,   0,   0,   0,   0,   0,   0,   0,   0,   0,\n",
              "          0,   0],\n",
              "       [  0,   0,   0,   0,   0,   0,   0,   0,   0,   0,   0,   0,   3,\n",
              "         18,  18,  18, 126, 136, 175,  26, 166, 255, 247, 127,   0,   0,\n",
              "          0,   0],\n",
              "       [  0,   0,   0,   0,   0,   0,   0,   0,  30,  36,  94, 154, 170,\n",
              "        253, 253, 253, 253, 253, 225, 172, 253, 242, 195,  64,   0,   0,\n",
              "          0,   0],\n",
              "       [  0,   0,   0,   0,   0,   0,   0,  49, 238, 253, 253, 253, 253,\n",
              "        253, 253, 253, 253, 251,  93,  82,  82,  56,  39,   0,   0,   0,\n",
              "          0,   0],\n",
              "       [  0,   0,   0,   0,   0,   0,   0,  18, 219, 253, 253, 253, 253,\n",
              "        253, 198, 182, 247, 241,   0,   0,   0,   0,   0,   0,   0,   0,\n",
              "          0,   0],\n",
              "       [  0,   0,   0,   0,   0,   0,   0,   0,  80, 156, 107, 253, 253,\n",
              "        205,  11,   0,  43, 154,   0,   0,   0,   0,   0,   0,   0,   0,\n",
              "          0,   0],\n",
              "       [  0,   0,   0,   0,   0,   0,   0,   0,   0,  14,   1, 154, 253,\n",
              "         90,   0,   0,   0,   0,   0,   0,   0,   0,   0,   0,   0,   0,\n",
              "          0,   0],\n",
              "       [  0,   0,   0,   0,   0,   0,   0,   0,   0,   0,   0, 139, 253,\n",
              "        190,   2,   0,   0,   0,   0,   0,   0,   0,   0,   0,   0,   0,\n",
              "          0,   0],\n",
              "       [  0,   0,   0,   0,   0,   0,   0,   0,   0,   0,   0,  11, 190,\n",
              "        253,  70,   0,   0,   0,   0,   0,   0,   0,   0,   0,   0,   0,\n",
              "          0,   0],\n",
              "       [  0,   0,   0,   0,   0,   0,   0,   0,   0,   0,   0,   0,  35,\n",
              "        241, 225, 160, 108,   1,   0,   0,   0,   0,   0,   0,   0,   0,\n",
              "          0,   0],\n",
              "       [  0,   0,   0,   0,   0,   0,   0,   0,   0,   0,   0,   0,   0,\n",
              "         81, 240, 253, 253, 119,  25,   0,   0,   0,   0,   0,   0,   0,\n",
              "          0,   0],\n",
              "       [  0,   0,   0,   0,   0,   0,   0,   0,   0,   0,   0,   0,   0,\n",
              "          0,  45, 186, 253, 253, 150,  27,   0,   0,   0,   0,   0,   0,\n",
              "          0,   0],\n",
              "       [  0,   0,   0,   0,   0,   0,   0,   0,   0,   0,   0,   0,   0,\n",
              "          0,   0,  16,  93, 252, 253, 187,   0,   0,   0,   0,   0,   0,\n",
              "          0,   0],\n",
              "       [  0,   0,   0,   0,   0,   0,   0,   0,   0,   0,   0,   0,   0,\n",
              "          0,   0,   0,   0, 249, 253, 249,  64,   0,   0,   0,   0,   0,\n",
              "          0,   0],\n",
              "       [  0,   0,   0,   0,   0,   0,   0,   0,   0,   0,   0,   0,   0,\n",
              "          0,  46, 130, 183, 253, 253, 207,   2,   0,   0,   0,   0,   0,\n",
              "          0,   0],\n",
              "       [  0,   0,   0,   0,   0,   0,   0,   0,   0,   0,   0,   0,  39,\n",
              "        148, 229, 253, 253, 253, 250, 182,   0,   0,   0,   0,   0,   0,\n",
              "          0,   0],\n",
              "       [  0,   0,   0,   0,   0,   0,   0,   0,   0,   0,  24, 114, 221,\n",
              "        253, 253, 253, 253, 201,  78,   0,   0,   0,   0,   0,   0,   0,\n",
              "          0,   0],\n",
              "       [  0,   0,   0,   0,   0,   0,   0,   0,  23,  66, 213, 253, 253,\n",
              "        253, 253, 198,  81,   2,   0,   0,   0,   0,   0,   0,   0,   0,\n",
              "          0,   0],\n",
              "       [  0,   0,   0,   0,   0,   0,  18, 171, 219, 253, 253, 253, 253,\n",
              "        195,  80,   9,   0,   0,   0,   0,   0,   0,   0,   0,   0,   0,\n",
              "          0,   0],\n",
              "       [  0,   0,   0,   0,  55, 172, 226, 253, 253, 253, 253, 244, 133,\n",
              "         11,   0,   0,   0,   0,   0,   0,   0,   0,   0,   0,   0,   0,\n",
              "          0,   0],\n",
              "       [  0,   0,   0,   0, 136, 253, 253, 253, 212, 135, 132,  16,   0,\n",
              "          0,   0,   0,   0,   0,   0,   0,   0,   0,   0,   0,   0,   0,\n",
              "          0,   0],\n",
              "       [  0,   0,   0,   0,   0,   0,   0,   0,   0,   0,   0,   0,   0,\n",
              "          0,   0,   0,   0,   0,   0,   0,   0,   0,   0,   0,   0,   0,\n",
              "          0,   0],\n",
              "       [  0,   0,   0,   0,   0,   0,   0,   0,   0,   0,   0,   0,   0,\n",
              "          0,   0,   0,   0,   0,   0,   0,   0,   0,   0,   0,   0,   0,\n",
              "          0,   0],\n",
              "       [  0,   0,   0,   0,   0,   0,   0,   0,   0,   0,   0,   0,   0,\n",
              "          0,   0,   0,   0,   0,   0,   0,   0,   0,   0,   0,   0,   0,\n",
              "          0,   0]], dtype=uint8)"
            ]
          },
          "metadata": {},
          "execution_count": 45
        }
      ],
      "source": [
        "X_train[0]"
      ]
    },
    {
      "cell_type": "code",
      "execution_count": 46,
      "metadata": {
        "ExecuteTime": {
          "end_time": "2021-12-21T12:50:25.913408Z",
          "start_time": "2021-12-21T12:50:25.907508Z"
        },
        "colab": {
          "base_uri": "https://localhost:8080/"
        },
        "id": "7jEGGBjS823x",
        "outputId": "69608d12-d6b0-478b-c517-5b77dc3a7c8b"
      },
      "outputs": [
        {
          "output_type": "execute_result",
          "data": {
            "text/plain": [
              "(60000, 28, 28)"
            ]
          },
          "metadata": {},
          "execution_count": 46
        }
      ],
      "source": [
        "X_train.shape"
      ]
    },
    {
      "cell_type": "code",
      "execution_count": 47,
      "metadata": {
        "ExecuteTime": {
          "end_time": "2021-12-21T12:50:26.786177Z",
          "start_time": "2021-12-21T12:50:26.547429Z"
        },
        "id": "vZFT1bzI823x"
      },
      "outputs": [],
      "source": [
        "num_pixels = X_train.shape[1] * X_train.shape[2]\n",
        "X_train = X_train.reshape(X_train.shape[0],num_pixels ).astype('float32')\n",
        "X_test = X_test.reshape(X_test.shape[0],num_pixels).astype('float32')\n",
        "\n",
        "X_train = X_train / 255\n",
        "X_test = X_test / 255"
      ]
    },
    {
      "cell_type": "code",
      "execution_count": 48,
      "metadata": {
        "ExecuteTime": {
          "end_time": "2021-12-21T12:50:27.360088Z",
          "start_time": "2021-12-21T12:50:27.353817Z"
        },
        "colab": {
          "base_uri": "https://localhost:8080/"
        },
        "id": "rV6cXSe2823x",
        "outputId": "a656c267-7796-4267-e900-817d10ac0bac"
      },
      "outputs": [
        {
          "output_type": "execute_result",
          "data": {
            "text/plain": [
              "(60000, 784)"
            ]
          },
          "metadata": {},
          "execution_count": 48
        }
      ],
      "source": [
        "X_train.shape"
      ]
    },
    {
      "cell_type": "code",
      "execution_count": 49,
      "metadata": {
        "ExecuteTime": {
          "end_time": "2021-12-21T12:50:28.567532Z",
          "start_time": "2021-12-21T12:50:28.563583Z"
        },
        "id": "a5FvaAvk823y"
      },
      "outputs": [],
      "source": [
        "# y_train = np_utils.to_categorical(y_train)\n",
        "# y_test = np_utils.to_categorical(y_test)\n",
        "# num_classes =10"
      ]
    },
    {
      "cell_type": "code",
      "execution_count": 50,
      "metadata": {
        "ExecuteTime": {
          "end_time": "2021-12-21T12:50:29.040013Z",
          "start_time": "2021-12-21T12:50:29.035296Z"
        },
        "id": "W5C45ruz823y"
      },
      "outputs": [],
      "source": [
        "num_classes=10\n",
        "num_pixels=784"
      ]
    },
    {
      "cell_type": "code",
      "execution_count": 51,
      "metadata": {
        "ExecuteTime": {
          "end_time": "2021-12-21T12:50:29.773835Z",
          "start_time": "2021-12-21T12:50:29.743290Z"
        },
        "id": "lOBu8WMP823z"
      },
      "outputs": [],
      "source": [
        "model = tf.keras.models.Sequential()\n",
        "model.add(tf.keras.layers.Dense(1000, input_dim=num_pixels, activation='relu'))\n",
        "model.add(tf.keras.layers.Dense(num_classes, activation='softmax'))"
      ]
    },
    {
      "cell_type": "code",
      "execution_count": 52,
      "metadata": {
        "ExecuteTime": {
          "end_time": "2021-12-21T12:50:30.743297Z",
          "start_time": "2021-12-21T12:50:30.737846Z"
        },
        "colab": {
          "base_uri": "https://localhost:8080/"
        },
        "id": "KyYEjE6O823z",
        "outputId": "b06cad24-2fec-4ef0-92bb-8b269f6e5917"
      },
      "outputs": [
        {
          "output_type": "stream",
          "name": "stdout",
          "text": [
            "Model: \"sequential_1\"\n",
            "_________________________________________________________________\n",
            " Layer (type)                Output Shape              Param #   \n",
            "=================================================================\n",
            " dense_1 (Dense)             (None, 1000)              785000    \n",
            "                                                                 \n",
            " dense_2 (Dense)             (None, 10)                10010     \n",
            "                                                                 \n",
            "=================================================================\n",
            "Total params: 795,010\n",
            "Trainable params: 795,010\n",
            "Non-trainable params: 0\n",
            "_________________________________________________________________\n"
          ]
        }
      ],
      "source": [
        "model.summary()\n"
      ]
    },
    {
      "cell_type": "code",
      "execution_count": 53,
      "metadata": {
        "ExecuteTime": {
          "end_time": "2021-12-21T12:50:32.608934Z",
          "start_time": "2021-12-21T12:50:32.600785Z"
        },
        "id": "jFJIDr858231"
      },
      "outputs": [],
      "source": [
        "model.compile(loss='sparse_categorical_crossentropy', optimizer='adam', metrics=['accuracy'])"
      ]
    },
    {
      "cell_type": "code",
      "execution_count": 54,
      "metadata": {
        "ExecuteTime": {
          "end_time": "2021-12-21T12:50:33.821329Z",
          "start_time": "2021-12-21T12:50:33.814763Z"
        },
        "colab": {
          "base_uri": "https://localhost:8080/"
        },
        "id": "JXEJTtwR8231",
        "outputId": "16a130e9-89f4-4cc3-fcd8-eaf065684d55"
      },
      "outputs": [
        {
          "output_type": "execute_result",
          "data": {
            "text/plain": [
              "array([7, 2, 1, ..., 4, 5, 6], dtype=uint8)"
            ]
          },
          "metadata": {},
          "execution_count": 54
        }
      ],
      "source": [
        "y_test"
      ]
    },
    {
      "cell_type": "code",
      "execution_count": 55,
      "metadata": {
        "ExecuteTime": {
          "end_time": "2021-12-21T12:50:56.440176Z",
          "start_time": "2021-12-21T12:50:34.766898Z"
        },
        "scrolled": true,
        "colab": {
          "base_uri": "https://localhost:8080/"
        },
        "id": "YO9t1_EF8233",
        "outputId": "284aa137-8636-4688-cfea-43d0b1376537"
      },
      "outputs": [
        {
          "output_type": "stream",
          "name": "stdout",
          "text": [
            "Epoch 1/10\n",
            "59/59 [==============================] - 5s 77ms/step - loss: 0.4829 - accuracy: 0.8716 - val_loss: 0.2320 - val_accuracy: 0.9330\n",
            "Epoch 2/10\n",
            "59/59 [==============================] - 6s 109ms/step - loss: 0.1984 - accuracy: 0.9450 - val_loss: 0.1659 - val_accuracy: 0.9522\n",
            "Epoch 3/10\n",
            "59/59 [==============================] - 7s 113ms/step - loss: 0.1429 - accuracy: 0.9598 - val_loss: 0.1273 - val_accuracy: 0.9632\n",
            "Epoch 4/10\n",
            "59/59 [==============================] - 4s 74ms/step - loss: 0.1093 - accuracy: 0.9698 - val_loss: 0.1092 - val_accuracy: 0.9693\n",
            "Epoch 5/10\n",
            "59/59 [==============================] - 4s 74ms/step - loss: 0.0866 - accuracy: 0.9763 - val_loss: 0.0964 - val_accuracy: 0.9704\n",
            "Epoch 6/10\n",
            "59/59 [==============================] - 4s 74ms/step - loss: 0.0708 - accuracy: 0.9808 - val_loss: 0.0898 - val_accuracy: 0.9726\n",
            "Epoch 7/10\n",
            "59/59 [==============================] - 6s 102ms/step - loss: 0.0587 - accuracy: 0.9843 - val_loss: 0.0776 - val_accuracy: 0.9764\n",
            "Epoch 8/10\n",
            "59/59 [==============================] - 7s 112ms/step - loss: 0.0490 - accuracy: 0.9871 - val_loss: 0.0704 - val_accuracy: 0.9787\n",
            "Epoch 9/10\n",
            "59/59 [==============================] - 4s 75ms/step - loss: 0.0408 - accuracy: 0.9893 - val_loss: 0.0703 - val_accuracy: 0.9789\n",
            "Epoch 10/10\n",
            "59/59 [==============================] - 4s 74ms/step - loss: 0.0353 - accuracy: 0.9913 - val_loss: 0.0669 - val_accuracy: 0.9793\n"
          ]
        },
        {
          "output_type": "execute_result",
          "data": {
            "text/plain": [
              "<keras.callbacks.History at 0x7f6294a3ff90>"
            ]
          },
          "metadata": {},
          "execution_count": 55
        }
      ],
      "source": [
        "model.fit(X_train, y_train, validation_data=(X_test, y_test), epochs=10, batch_size=1024, verbose=1)"
      ]
    },
    {
      "cell_type": "code",
      "execution_count": 56,
      "metadata": {
        "ExecuteTime": {
          "end_time": "2021-12-21T12:50:59.075615Z",
          "start_time": "2021-12-21T12:50:58.795598Z"
        },
        "id": "cMcRJWRD8234"
      },
      "outputs": [],
      "source": [
        "(X_train1, y_train), (X_test1, y_test) = tf.keras.datasets.mnist.load_data()\n"
      ]
    },
    {
      "cell_type": "code",
      "execution_count": 57,
      "metadata": {
        "ExecuteTime": {
          "end_time": "2021-12-21T12:52:25.580897Z",
          "start_time": "2021-12-21T12:52:25.395110Z"
        },
        "colab": {
          "base_uri": "https://localhost:8080/",
          "height": 283
        },
        "id": "jK7DwjQs8235",
        "outputId": "02e355e8-ae93-4e6b-e3f7-687d257a6911"
      },
      "outputs": [
        {
          "output_type": "execute_result",
          "data": {
            "text/plain": [
              "<matplotlib.image.AxesImage at 0x7f62948dda10>"
            ]
          },
          "metadata": {},
          "execution_count": 57
        },
        {
          "output_type": "display_data",
          "data": {
            "text/plain": [
              "<Figure size 432x288 with 1 Axes>"
            ],
            "image/png": "[encoded data removed]"
          },
          "metadata": {
            "needs_background": "light"
          }
        }
      ],
      "source": [
        "pic=np.zeros((28,28))\n",
        "pic=X_train1[3,:,:].copy()\n",
        "pic2=X_train1[3,:,:].copy()\n",
        "plt.imshow(pic)"
      ]
    },
    {
      "cell_type": "code",
      "execution_count": 58,
      "metadata": {
        "ExecuteTime": {
          "end_time": "2021-12-21T12:52:26.172778Z",
          "start_time": "2021-12-21T12:52:26.130944Z"
        },
        "colab": {
          "base_uri": "https://localhost:8080/"
        },
        "id": "ynJFtM1D8236",
        "outputId": "867e0116-4dc3-4b9c-bff4-f1415ec14d26"
      },
      "outputs": [
        {
          "output_type": "execute_result",
          "data": {
            "text/plain": [
              "1"
            ]
          },
          "metadata": {},
          "execution_count": 58
        }
      ],
      "source": [
        "np.argmax(model.predict(pic.reshape(1,784)))"
      ]
    },
    {
      "cell_type": "code",
      "execution_count": 59,
      "metadata": {
        "ExecuteTime": {
          "end_time": "2021-12-21T12:52:26.959685Z",
          "start_time": "2021-12-21T12:52:26.776345Z"
        },
        "colab": {
          "base_uri": "https://localhost:8080/",
          "height": 283
        },
        "id": "7jpUp9Pj8236",
        "outputId": "7ee7f52b-9381-4b66-a7c3-73f02cccaac5"
      },
      "outputs": [
        {
          "output_type": "execute_result",
          "data": {
            "text/plain": [
              "<matplotlib.image.AxesImage at 0x7f6294830750>"
            ]
          },
          "metadata": {},
          "execution_count": 59
        },
        {
          "output_type": "display_data",
          "data": {
            "text/plain": [
              "<Figure size 432x288 with 1 Axes>"
            ],
            "image/png": "[encoded data removed]"
          },
          "metadata": {
            "needs_background": "light"
          }
        }
      ],
      "source": [
        "for i in range(pic.shape[0]):\n",
        "  if i<20:\n",
        "    pic[:,i]=pic[:,i+3]\n",
        "plt.imshow(pic)"
      ]
    },
    {
      "cell_type": "code",
      "execution_count": 60,
      "metadata": {
        "ExecuteTime": {
          "end_time": "2021-12-21T12:52:27.509577Z",
          "start_time": "2021-12-21T12:52:27.467125Z"
        },
        "colab": {
          "base_uri": "https://localhost:8080/"
        },
        "id": "jR9E8faB8237",
        "outputId": "802ed405-6497-4525-ad4a-cf19c7b1a341"
      },
      "outputs": [
        {
          "output_type": "execute_result",
          "data": {
            "text/plain": [
              "0"
            ]
          },
          "metadata": {},
          "execution_count": 60
        }
      ],
      "source": [
        "np.argmax(model.predict(pic.reshape(1,784)))"
      ]
    },
    {
      "cell_type": "code",
      "execution_count": 61,
      "metadata": {
        "ExecuteTime": {
          "end_time": "2021-12-21T12:52:28.325502Z",
          "start_time": "2021-12-21T12:52:28.142064Z"
        },
        "colab": {
          "base_uri": "https://localhost:8080/",
          "height": 283
        },
        "id": "-3UvnF9t8237",
        "outputId": "24db0952-9da7-4508-bc56-60b9a333c973"
      },
      "outputs": [
        {
          "output_type": "execute_result",
          "data": {
            "text/plain": [
              "<matplotlib.image.AxesImage at 0x7f6294879e90>"
            ]
          },
          "metadata": {},
          "execution_count": 61
        },
        {
          "output_type": "display_data",
          "data": {
            "text/plain": [
              "<Figure size 432x288 with 1 Axes>"
            ],
            "image/png": "[encoded data removed]"
          },
          "metadata": {
            "needs_background": "light"
          }
        }
      ],
      "source": [
        "pic=np.zeros((28,28))\n",
        "\n",
        "for i in range(pic.shape[0]):\n",
        "  if  (i<25):\n",
        "    pic[:,i+3]=pic2[:,i]\n",
        "plt.imshow(pic)"
      ]
    },
    {
      "cell_type": "code",
      "execution_count": 62,
      "metadata": {
        "ExecuteTime": {
          "end_time": "2021-12-21T12:52:28.947840Z",
          "start_time": "2021-12-21T12:52:28.897911Z"
        },
        "colab": {
          "base_uri": "https://localhost:8080/"
        },
        "id": "q1r2Kj0o8238",
        "outputId": "2eef28e1-1f49-4530-c53b-7c1ea342416f"
      },
      "outputs": [
        {
          "output_type": "execute_result",
          "data": {
            "text/plain": [
              "4"
            ]
          },
          "metadata": {},
          "execution_count": 62
        }
      ],
      "source": [
        "np.argmax(model.predict(pic.reshape(1,784)))"
      ]
    }
  ],
  "metadata": {
    "kernelspec": {
      "display_name": "Python 3",
      "language": "python",
      "name": "python3"
    },
    "language_info": {
      "codemirror_mode": {
        "name": "ipython",
        "version": 3
      },
      "file_extension": ".py",
      "mimetype": "text/x-python",
      "name": "python",
      "nbconvert_exporter": "python",
      "pygments_lexer": "ipython3",
      "version": "3.7.4"
    },
    "colab": {
      "name": "neural networks .ipynb",
      "provenance": [],
      "collapsed_sections": [
        "g2U8k7mG823k"
      ],
      "include_colab_link": true
    }
  },
  "nbformat": 4,
  "nbformat_minor": 0
}